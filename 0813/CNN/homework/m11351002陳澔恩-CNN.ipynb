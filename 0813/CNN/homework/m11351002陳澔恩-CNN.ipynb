{
 "cells": [
  {
   "cell_type": "markdown",
   "metadata": {},
   "source": [
    "# 作業\n",
    "\n",
    "1. 找一個資料集作訓練，方法不限\n",
    "2. 表示你改進準確率的想法並實作\n",
    "3. 9/2 開學前上傳"
   ]
  },
  {
   "cell_type": "code",
   "execution_count": null,
   "metadata": {},
   "outputs": [],
   "source": []
  }
 ],
 "metadata": {
  "language_info": {
   "name": "python"
  }
 },
 "nbformat": 4,
 "nbformat_minor": 2
}
