{
 "cells": [
  {
   "cell_type": "markdown",
   "metadata": {},
   "source": [
    "# 作業\n",
    "\n",
    "1. 找一個資料集作訓練，方法不限\n",
    "2. 表示你改進準確率的想法並實作\n",
    "3. 9/2 開學前上傳"
   ]
  },
  {
   "cell_type": "markdown",
   "metadata": {},
   "source": [
    "## Dataset\n",
    "\n",
    "[Fruits Classification](https://www.kaggle.com/code/karimabdulnabi/fruits-classification-by-cnn)\n",
    "\n",
    "10 Class:\n",
    "- Apple\n",
    "- Orange\n",
    "- Avocado\n",
    "- Kiwi\n",
    "- Mango\n",
    "- Pinenapple\n",
    "- Strawberries\n",
    "- Banana\n",
    "- Cherry\n",
    "-Watermelon\n",
    "\n",
    "參考解答：這篇沒有說明，我對每個cell補上說明，再參數測試\n",
    "\n",
    "[fruits classification by CNN 🥝🍇](https://www.kaggle.com/code/karimabdulnabi/fruits-classification-by-cnn)"
   ]
  },
  {
   "cell_type": "markdown",
   "metadata": {},
   "source": [
    "# Code"
   ]
  },
  {
   "cell_type": "markdown",
   "metadata": {},
   "source": [
    "## Import Library"
   ]
  },
  {
   "cell_type": "markdown",
   "metadata": {},
   "source": [
    "### Environment"
   ]
  },
  {
   "cell_type": "code",
   "execution_count": null,
   "metadata": {},
   "outputs": [],
   "source": [
    "# %pip install -r linux_requirements.txt\n",
    "# %pip install -r mac_requirements.txt"
   ]
  },
  {
   "cell_type": "code",
   "execution_count": null,
   "metadata": {},
   "outputs": [],
   "source": [
    "import tensorflow as tf\n",
    "import keras\n",
    "import pandas as pd\n",
    "import numpy as np\n",
    "import cv2 as cv\n",
    "import matplotlib.pyplot as plt\n",
    "import glob as gb\n",
    "import os"
   ]
  },
  {
   "cell_type": "markdown",
   "metadata": {},
   "source": [
    "## Data Preprocessing"
   ]
  },
  {
   "cell_type": "markdown",
   "metadata": {},
   "source": [
    "### Load Data"
   ]
  },
  {
   "cell_type": "code",
   "execution_count": null,
   "metadata": {},
   "outputs": [],
   "source": [
    "trainpath = \"./MY_data/train/\"\n",
    "testpath = \"./MY_data/test/\"\n",
    "predpath = \"./MY_data/predict/\""
   ]
  },
  {
   "cell_type": "code",
   "execution_count": null,
   "metadata": {},
   "outputs": [],
   "source": [
    "for folder in os.listdir(trainpath):\n",
    "    files = gb.glob(pathname=str(trainpath+folder + \"/*.jpeg\"))\n",
    "    print(f\"for training data , found {len(files)} in folder {folder}\")"
   ]
  },
  {
   "cell_type": "code",
   "execution_count": null,
   "metadata": {},
   "outputs": [],
   "source": [
    "for folder in os.listdir(testpath):\n",
    "    files = gb.glob(pathname=str(testpath+folder + \"/*.jpeg\"))\n",
    "    print(f\"for testing data , found {len(files)} in folder {folder}\")"
   ]
  },
  {
   "cell_type": "markdown",
   "metadata": {},
   "source": [
    "### Encode Class"
   ]
  },
  {
   "cell_type": "code",
   "execution_count": null,
   "metadata": {},
   "outputs": [],
   "source": [
    "code_train = {\"Apple\" : 0, \"avocado\" :1 , \"Banana\" :2 , \"cherry\" :3 , \"kiwi\" :4 , \"mango\" :5 , \"orange\" :6 , \"pinenapple\" :7 ,\n",
    "        \"strawberries\" :8 , \"watermelon\" :9 }\n",
    "\n",
    "def getcode_train(n):\n",
    "    for x , y in code_train.items():\n",
    "        if n==y:\n",
    "            return x\n",
    "\n",
    "# check ording of the classes\n",
    "print(f'Apple code is : {code_train[\"Apple\"]}')"
   ]
  },
  {
   "cell_type": "code",
   "execution_count": null,
   "metadata": {},
   "outputs": [],
   "source": [
    "code_test = {\"apple\" : 0, \"avocado\" :1 , \"banana\" :2 , \"cherry\" :3 , \"kiwi\" :4 , \"mango\" :5 , \"orange\" :6 , \"pinenapple\" :7 ,\n",
    "        \"stawberries\" :8 , \"watermelon\" :9 }\n",
    "\n",
    "def getcode_test(n):\n",
    "    for x , y in code_test.items():\n",
    "        if n==y:\n",
    "            return x\n",
    "        \n",
    "# check ording of the classes\n",
    "print(f\"manago code is : {code_test['mango']}\")"
   ]
  },
  {
   "cell_type": "markdown",
   "metadata": {},
   "source": [
    "### Image Size"
   ]
  },
  {
   "cell_type": "code",
   "execution_count": null,
   "metadata": {},
   "outputs": [],
   "source": [
    "size = []\n",
    "for folder in os.listdir(trainpath):\n",
    "    files = gb.glob(pathname=str(trainpath+folder + \"/*.jpeg\"))\n",
    "    for file in files:\n",
    "        image = plt.imread(file)\n",
    "        size.append(image.shape)\n",
    "        \n",
    "df = pd.Series(size)\n",
    "pd.DataFrame(df.value_counts())#[:60]"
   ]
  },
  {
   "cell_type": "code",
   "execution_count": null,
   "metadata": {},
   "outputs": [],
   "source": [
    "size = []\n",
    "for folder in os.listdir(testpath):\n",
    "    files = gb.glob(pathname=str(testpath+folder + \"/*.jpeg\"))\n",
    "    for file in files:\n",
    "        image = plt.imread(file)\n",
    "        size.append(image.shape)\n",
    "        \n",
    "df = pd.Series(size)\n",
    "pd.DataFrame(df.value_counts())"
   ]
  },
  {
   "cell_type": "markdown",
   "metadata": {},
   "source": [
    "### Resize"
   ]
  },
  {
   "cell_type": "code",
   "execution_count": null,
   "metadata": {},
   "outputs": [],
   "source": [
    "s = 150"
   ]
  },
  {
   "cell_type": "markdown",
   "metadata": {},
   "source": [
    "#### Testing data Resize"
   ]
  },
  {
   "cell_type": "code",
   "execution_count": null,
   "metadata": {},
   "outputs": [],
   "source": [
    "x_test = []\n",
    "y_test = []\n",
    "for folder in os.listdir(testpath):\n",
    "    files = gb.glob(pathname=str(testpath+folder + \"/*.jpeg\"))\n",
    "    for file in files:\n",
    "        image = cv.imread(file)\n",
    "        image_array = cv.resize(image , (s,s))\n",
    "        x_test.append(list(image_array))\n",
    "        y_test.append(code_test[folder])"
   ]
  },
  {
   "cell_type": "code",
   "execution_count": null,
   "metadata": {},
   "outputs": [],
   "source": [
    "l = len(x_test)"
   ]
  },
  {
   "cell_type": "code",
   "execution_count": null,
   "metadata": {},
   "outputs": [],
   "source": [
    "plt.figure(figsize=(20 , 20))\n",
    "for n , i in enumerate(list(np.random.randint(0 , l ,36 ))) :\n",
    "    plt.subplot(6 , 6 , n+1)\n",
    "    plt.imshow(x_test[i])\n",
    "    plt.axis(\"off\")\n",
    "    plt.title(getcode_test(y_test[i]))"
   ]
  },
  {
   "cell_type": "markdown",
   "metadata": {},
   "source": [
    "#### Training data Resize"
   ]
  },
  {
   "cell_type": "code",
   "execution_count": null,
   "metadata": {},
   "outputs": [],
   "source": [
    "x_train = []\n",
    "y_train = []\n",
    "for folder in os.listdir(trainpath):\n",
    "    files = gb.glob(pathname=str(trainpath+folder + \"/*.jpeg\"))\n",
    "    for file in files:\n",
    "        image = cv.imread(file)\n",
    "        if image is None:\n",
    "            continue\n",
    "        image_array = cv.resize(image , (s,s))\n",
    "        x_train.append(list(image_array))\n",
    "        y_train.append(code_train[folder])"
   ]
  },
  {
   "cell_type": "code",
   "execution_count": null,
   "metadata": {},
   "outputs": [],
   "source": [
    "plt.figure(figsize=(20 , 20))\n",
    "for n , i in enumerate(list(np.random.randint(0 , l ,36 ))) :\n",
    "    plt.subplot(6 , 6 , n+1)\n",
    "    plt.imshow(x_train[i])\n",
    "    plt.axis(\"off\")\n",
    "    plt.title(getcode_train(y_train[i]))"
   ]
  },
  {
   "cell_type": "code",
   "execution_count": null,
   "metadata": {},
   "outputs": [],
   "source": [
    "x_pred = []\n",
    "files = gb.glob(pathname=str(predpath +\"/*.jpeg\"))\n",
    "for file in files:\n",
    "    image = cv.imread(file)\n",
    "    image_array = cv.resize(image , (s , s))\n",
    "    x_pred.append(list(image_array))"
   ]
  },
  {
   "cell_type": "code",
   "execution_count": null,
   "metadata": {},
   "outputs": [],
   "source": [
    "len(x_pred)"
   ]
  },
  {
   "cell_type": "code",
   "execution_count": null,
   "metadata": {},
   "outputs": [],
   "source": [
    "plt.figure(figsize=(20 , 20))\n",
    "for o , p in enumerate(list(np.random.randint(0 , 48 ,36))):\n",
    "    plt.subplot(6 , 6 , o+1)\n",
    "    plt.imshow(x_pred[p])\n",
    "    plt.axis(\"off\")"
   ]
  },
  {
   "cell_type": "code",
   "execution_count": null,
   "metadata": {},
   "outputs": [],
   "source": [
    "x_train = np.array(x_train)\n",
    "y_train = np.array(y_train)\n",
    "x_pred_array = np.array(x_pred)\n",
    "x_test = np.array(x_test)\n",
    "y_test = np.array(y_test)"
   ]
  },
  {
   "cell_type": "code",
   "execution_count": null,
   "metadata": {},
   "outputs": [],
   "source": [
    "print(x_test.shape)"
   ]
  },
  {
   "cell_type": "markdown",
   "metadata": {},
   "source": [
    "## Model"
   ]
  },
  {
   "cell_type": "markdown",
   "metadata": {},
   "source": [
    "### CNN Model Architecture Setup"
   ]
  },
  {
   "cell_type": "code",
   "execution_count": null,
   "metadata": {},
   "outputs": [],
   "source": [
    "model = keras.models.Sequential([\n",
    "    keras.layers.Conv2D(200 , kernel_size = (5 , 5) , activation=\"relu\" , input_shape=(s, s , 3)) , \n",
    "    keras.layers.MaxPool2D(5 , 5) ,\n",
    "    keras.layers.Conv2D(100 ,kernel_size = (5 , 5), activation=\"relu\") , \n",
    "    keras.layers.MaxPool2D(5 , 5) ,\n",
    "    keras.layers.Flatten() , \n",
    "    keras.layers.Dense(50 , activation=\"relu\") ,\n",
    "    keras.layers.Dropout(rate=0.3) , \n",
    "    keras.layers.Dense(10 , activation=\"softmax\") ,\n",
    "])"
   ]
  },
  {
   "cell_type": "code",
   "execution_count": null,
   "metadata": {},
   "outputs": [],
   "source": [
    "model.compile(optimizer=\"adam\" , loss=\"sparse_categorical_crossentropy\" , metrics=[\"accuracy\"])"
   ]
  },
  {
   "cell_type": "code",
   "execution_count": null,
   "metadata": {},
   "outputs": [],
   "source": [
    "model.summary()"
   ]
  },
  {
   "cell_type": "markdown",
   "metadata": {},
   "source": [
    "### Train Model"
   ]
  },
  {
   "cell_type": "code",
   "execution_count": null,
   "metadata": {},
   "outputs": [],
   "source": [
    "model.fit(x_train , y_train , epochs=10 , batch_size = 64)"
   ]
  },
  {
   "cell_type": "markdown",
   "metadata": {},
   "source": [
    "### Evaluation"
   ]
  },
  {
   "cell_type": "code",
   "execution_count": null,
   "metadata": {},
   "outputs": [],
   "source": [
    "modelloss , modelaccuracy = model.evaluate(x_test , y_test)"
   ]
  },
  {
   "cell_type": "markdown",
   "metadata": {},
   "source": [
    "### Prediction"
   ]
  },
  {
   "cell_type": "code",
   "execution_count": null,
   "metadata": {},
   "outputs": [],
   "source": [
    "y_pred = model.predict(x_test)"
   ]
  },
  {
   "cell_type": "code",
   "execution_count": null,
   "metadata": {},
   "outputs": [],
   "source": [
    "y_result = model.predict(x_pred_array)\n",
    "y_result.shape"
   ]
  },
  {
   "cell_type": "code",
   "execution_count": null,
   "metadata": {},
   "outputs": [],
   "source": [
    "plt.figure(figsize=(20 , 20))\n",
    "for n , i in enumerate(list(np.random.randint(0 , 48 , 36))):\n",
    "    plt.subplot(6 , 6 , n+1)\n",
    "    plt.imshow(x_pred[i])\n",
    "    plt.axis(\"off\")\n",
    "    plt.title(getcode_train(np.argmax(y_result[i])))"
   ]
  },
  {
   "cell_type": "markdown",
   "metadata": {},
   "source": [
    "# 嘗試優化"
   ]
  },
  {
   "cell_type": "markdown",
   "metadata": {},
   "source": [
    "## Model"
   ]
  },
  {
   "cell_type": "markdown",
   "metadata": {},
   "source": [
    "### CNN Model Architecture Setup"
   ]
  },
  {
   "cell_type": "code",
   "execution_count": null,
   "metadata": {},
   "outputs": [],
   "source": [
    "model = keras.models.Sequential([\n",
    "    keras.layers.Conv2D(250 , kernel_size = (3 , 3) , activation=\"relu\" , input_shape=(s, s , 3)) , \n",
    "    keras.layers.Conv2D(230 , kernel_size = (3 , 3) , activation=\"relu\") ,\n",
    "    keras.layers.Conv2D(200 , kernel_size = (3 , 3) , activation=\"relu\") , \n",
    "    keras.layers.MaxPool2D(6 , 6) ,\n",
    "    keras.layers.Conv2D(180 ,kernel_size = (3 , 3), activation=\"relu\") , \n",
    "    keras.layers.Conv2D(100 ,kernel_size = (3 , 3), activation=\"relu\") , \n",
    "    keras.layers.Conv2D(80 , kernel_size = (3 , 3) , activation=\"relu\") ,\n",
    "    keras.layers.MaxPool2D(6 , 6) ,\n",
    "    keras.layers.Flatten() , \n",
    "    keras.layers.Dense(120 , activation=\"relu\") ,\n",
    "    keras.layers.Dense(100 , activation=\"relu\") ,\n",
    "    keras.layers.Dense(50 , activation=\"relu\") ,\n",
    "    keras.layers.Dropout(rate=0.3) , \n",
    "    keras.layers.Dense(10 , activation=\"softmax\") ,\n",
    "])"
   ]
  },
  {
   "cell_type": "code",
   "execution_count": null,
   "metadata": {},
   "outputs": [],
   "source": [
    "model.compile(optimizer=\"adam\" , loss=\"sparse_categorical_crossentropy\" , metrics=[\"accuracy\"])"
   ]
  },
  {
   "cell_type": "code",
   "execution_count": null,
   "metadata": {},
   "outputs": [],
   "source": [
    "model.summary()"
   ]
  },
  {
   "cell_type": "markdown",
   "metadata": {},
   "source": [
    "### Train Model"
   ]
  },
  {
   "cell_type": "code",
   "execution_count": null,
   "metadata": {},
   "outputs": [],
   "source": [
    "model.fit(x_train , y_train , epochs=30 , batch_size = 64)"
   ]
  },
  {
   "cell_type": "code",
   "execution_count": null,
   "metadata": {},
   "outputs": [],
   "source": [
    "modelloss , modelaccuracy = model.evaluate(x_test , y_test)"
   ]
  },
  {
   "cell_type": "code",
   "execution_count": null,
   "metadata": {},
   "outputs": [],
   "source": [
    "y_pred = model.predict(x_test)"
   ]
  },
  {
   "cell_type": "code",
   "execution_count": null,
   "metadata": {},
   "outputs": [],
   "source": [
    "y_result = model.predict(x_pred_array)\n",
    "y_result.shape"
   ]
  },
  {
   "cell_type": "code",
   "execution_count": null,
   "metadata": {},
   "outputs": [],
   "source": [
    "plt.figure(figsize=(20 , 20))\n",
    "for n , i in enumerate(list(np.random.randint(0 , 48 , 36))):\n",
    "    plt.subplot(6 , 6 , n+1)\n",
    "    plt.imshow(x_pred[i])\n",
    "    plt.axis(\"off\")\n",
    "    plt.title(getcode_train(np.argmax(y_result[i])))"
   ]
  }
 ],
 "metadata": {
  "kaggle": {
   "accelerator": "gpu",
   "dataSources": [
    {
     "datasetId": 2529046,
     "sourceId": 4292212,
     "sourceType": "datasetVersion"
    }
   ],
   "dockerImageVersionId": 30260,
   "isGpuEnabled": true,
   "isInternetEnabled": false,
   "language": "python",
   "sourceType": "notebook"
  },
  "kernelspec": {
   "display_name": "Python 3",
   "language": "python",
   "name": "python3"
  },
  "language_info": {
   "codemirror_mode": {
    "name": "ipython",
    "version": 3
   },
   "file_extension": ".py",
   "mimetype": "text/x-python",
   "name": "python",
   "nbconvert_exporter": "python",
   "pygments_lexer": "ipython3",
   "version": "3.11.5"
  }
 },
 "nbformat": 4,
 "nbformat_minor": 4
}
