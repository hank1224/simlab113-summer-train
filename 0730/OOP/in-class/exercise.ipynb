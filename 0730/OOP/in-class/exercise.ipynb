{
 "cells": [
  {
   "cell_type": "markdown",
   "metadata": {},
   "source": [
    "# Python OOP"
   ]
  },
  {
   "cell_type": "markdown",
   "metadata": {},
   "source": [
    "## Functions"
   ]
  },
  {
   "cell_type": "code",
   "execution_count": null,
   "metadata": {},
   "outputs": [],
   "source": [
    "graph_a = {\n",
    "    \"name\": \"A\",\n",
    "    \"type\": \"square\",\n",
    "    \"width\": 2,\n",
    "    \"height\": 2,\n",
    "}\n",
    "\n",
    "graph_b = {\n",
    "    \"name\": \"B\",\n",
    "    \"type\": \"rectangle\",\n",
    "    \"width\": 2,\n",
    "    \"height\": 3,\n",
    "}\n",
    "\n",
    "def get_area(graph):\n",
    "    if graph[\"type\"] == \"square\":\n",
    "        return graph[\"width\"] * graph[\"height\"]\n",
    "    elif graph[\"type\"] == \"rectangle\":\n",
    "        return graph[\"width\"] * graph[\"height\"]\n",
    "    else:\n",
    "        return None\n",
    "\n",
    "def get_perimeter(graph):\n",
    "    if graph[\"type\"] == \"square\":\n",
    "        return 2 * (graph[\"width\"] + graph[\"height\"])\n",
    "    elif graph[\"type\"] == \"rectangle\":\n",
    "        return 2 * (graph[\"width\"] + graph[\"height\"])\n",
    "    else:\n",
    "        return None\n",
    "\n",
    "print(f\"graph_a area: {get_area(graph_a)}, type: {graph_a['type']}\")\n",
    "print(f\"graph_a perimeter: {get_perimeter(graph_a)}, type: {graph_a['type']}\")\n",
    "\n",
    "print(f\"graph_b area: {get_area(graph_b)}, type: {graph_b['type']}\")\n",
    "print(f\"graph_b perimeter: {get_perimeter(graph_b)}, type: {graph_b['type']}\")"
   ]
  },
  {
   "cell_type": "markdown",
   "metadata": {},
   "source": [
    "## Class"
   ]
  },
  {
   "cell_type": "code",
   "execution_count": null,
   "metadata": {},
   "outputs": [],
   "source": [
    "class Graph:\n",
    "    def __init__(self, name, type, width, height):\n",
    "        self.name = name\n",
    "        self.__type = type\n",
    "        self.__width = width\n",
    "        self.__height = height\n",
    "\n",
    "    def get_area(self):\n",
    "        if self.__type == \"square\":\n",
    "            return self.__width * self.__height\n",
    "        elif self.__type == \"rectangle\":\n",
    "            return self.__width * self.__height\n",
    "        else:\n",
    "            return None\n",
    "\n",
    "    def get_perimeter(self):\n",
    "        if self.__type == \"square\":\n",
    "            return 2 * (self.__width + self.__height)\n",
    "        elif self.__type == \"rectangle\":\n",
    "            return 2 * (self.__width + self.__height)\n",
    "        else:\n",
    "            return None\n",
    "        \n",
    "    # getter and setter\n",
    "    def get_width(self):\n",
    "        return self.__width\n",
    "    \n",
    "    def set_width(self, width):\n",
    "        self.__width = width\n",
    "\n",
    "    def get_height(self):\n",
    "        return self.__height\n",
    "    \n",
    "    def set_height(self, height):\n",
    "        self.__height = height\n",
    "        \n",
    "    def __str__(self) -> str:\n",
    "        return (\n",
    "            f\"Graph Info:\\n\"\n",
    "            f\"  Name: {self.name}\\n\"\n",
    "            f\"  Type: {self.__type}\\n\"\n",
    "            f\"  Width: {self.__width}\\n\"\n",
    "            f\"  Height: {self.__height}\\n\"\n",
    "            f\"  Area: {self.get_area()}\\n\"\n",
    "            f\"  Perimeter: {self.get_perimeter()}\"\n",
    "        )\n",
    "        \n",
    "graph_a = Graph(\"A\", \"square\", 2, 2)\n",
    "graph_b = Graph(\"B\", \"rectangle\", 2, 3)\n",
    "\n",
    "print(graph_a)\n",
    "print(graph_b)"
   ]
  },
  {
   "cell_type": "code",
   "execution_count": null,
   "metadata": {},
   "outputs": [],
   "source": [
    "graph_a.set_width(3)\n",
    "graph_a.set_height(3)\n",
    "print(graph_a)"
   ]
  },
  {
   "cell_type": "markdown",
   "metadata": {},
   "source": [
    "## Impl in class\n",
    "\n",
    "build a Circle class impl from Graph."
   ]
  },
  {
   "cell_type": "code",
   "execution_count": null,
   "metadata": {},
   "outputs": [],
   "source": [
    "class Circle(Graph):\n",
    "    def __init__(self, name, type, radius):\n",
    "        super().__init__(name, type, radius, radius)\n",
    "        self.__radius = radius\n",
    "\n",
    "    def get_area(self):\n",
    "        return 3.14 * self.__radius * self.__radius\n",
    "\n",
    "    def get_perimeter(self):\n",
    "        return 2 * 3.14 * self.__radius\n",
    "    \n",
    "    # getter and setter\n",
    "\n",
    "    def get_radius(self):\n",
    "        return self.__radius\n",
    "    \n",
    "    def set_radius(self, radius):\n",
    "        self.__radius = radius\n",
    "\n",
    "    def __str__(self) -> str:\n",
    "        return (\n",
    "            f\"Graph Info:\\n\"\n",
    "            f\"  Name: {self.name}\\n\"\n",
    "            f\"  Type: {self._Graph__type}\\n\"\n",
    "            f\"  Radius: {self.__radius}\\n\"\n",
    "            f\"  Area: {self.get_area()}\\n\"\n",
    "            f\"  Perimeter: {self.get_perimeter()}\"\n",
    "        )\n",
    "    \n",
    "graph_c = Circle(\"C\", \"circle\", 3)\n",
    "print(graph_c)"
   ]
  },
  {
   "cell_type": "markdown",
   "metadata": {},
   "source": [
    "## Private 還是可以取出來\n",
    "\n",
    "三小"
   ]
  },
  {
   "cell_type": "code",
   "execution_count": null,
   "metadata": {},
   "outputs": [],
   "source": [
    "graph_c.__dict__"
   ]
  },
  {
   "cell_type": "markdown",
   "metadata": {},
   "source": [
    "## Inheritance 後，父類別 和 子類別"
   ]
  },
  {
   "cell_type": "code",
   "execution_count": null,
   "metadata": {},
   "outputs": [],
   "source": [
    "print(isinstance(graph_c, Graph))\n",
    "print(isinstance(graph_c, Circle))"
   ]
  },
  {
   "cell_type": "markdown",
   "metadata": {},
   "source": [
    "## Abstract"
   ]
  },
  {
   "cell_type": "code",
   "execution_count": null,
   "metadata": {},
   "outputs": [],
   "source": [
    "import abc\n",
    "\n",
    "class Food(metaclass=abc.ABCMeta):\n",
    "    @abc.abstractmethod\n",
    "    def get_name(self):\n",
    "        pass\n",
    "\n",
    "    @abc.abstractmethod\n",
    "    def get_price(self):\n",
    "        raise NotImplementedError\n",
    "\n",
    "    def __str__(self) -> str:\n",
    "        return (\n",
    "            f\"Food Info:\\n\"\n",
    "            f\"  Name: {self.get_name()}\\n\"\n",
    "            f\"  Price: {self.get_price()}\"\n",
    "        )\n",
    "\n",
    "class Hamburger(Food):\n",
    "    def get_name(self):\n",
    "        return \"Hamburger\"\n",
    "\n",
    "    def get_price(self):\n",
    "        return 5.0\n",
    "    \n",
    "class Chips(Food):\n",
    "    def get_name(self):\n",
    "        return \"Chips\"\n",
    "\n",
    "    def get_price(self):\n",
    "        return 2.0\n"
   ]
  }
 ],
 "metadata": {
  "kernelspec": {
   "display_name": "m113-summer",
   "language": "python",
   "name": "python3"
  },
  "language_info": {
   "codemirror_mode": {
    "name": "ipython",
    "version": 3
   },
   "file_extension": ".py",
   "mimetype": "text/x-python",
   "name": "python",
   "nbconvert_exporter": "python",
   "pygments_lexer": "ipython3",
   "version": "3.10.0"
  }
 },
 "nbformat": 4,
 "nbformat_minor": 2
}
