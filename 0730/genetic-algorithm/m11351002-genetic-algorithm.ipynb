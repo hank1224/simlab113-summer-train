{
 "cells": [
  {
   "cell_type": "markdown",
   "metadata": {},
   "source": [
    "# 作業：基因演算法\n",
    "\n",
    "- 程式檔\n",
    "- 影片檔（文字詳細說明也可）\n",
    "- 兩張圖\n",
    "    - log: Gen, best fit, x, y, x+y, history_best_fit\n",
    "    - 圖表：Fitness/lteration\n",
    "\n",
    "## 題目\n",
    "\n",
    "1. **目標函數**：\n",
    "\n",
    "   $$\\text{Minimize } f(x, y) = -\\cos(\\pi y) - \\exp(-\\pi (x - 0.5)^2) \\sin^2(\\pi x)$$\n",
    "\n",
    "2. **約束條件**：\n",
    "\n",
    "   $$-1 \\leq x \\leq 2$$\n",
    "   $$4 \\leq y \\leq 6$$\n",
    "   $$x + y \\geq 5$$\n",
    "\n",
    "\n",
    "2. **答案**：\n",
    "\n",
    "   $$\\text{Minimum } = -2 \\text{ at } (x, y) = (0.5, 6)$$\n"
   ]
  },
  {
   "cell_type": "markdown",
   "metadata": {},
   "source": [
    "# 程式碼"
   ]
  },
  {
   "cell_type": "code",
   "execution_count": null,
   "metadata": {},
   "outputs": [],
   "source": [
    "from abc import ABC, abstractmethod\n",
    "import numpy as np\n",
    "from typing import List"
   ]
  },
  {
   "cell_type": "markdown",
   "metadata": {},
   "source": [
    "### 演算法參數設定\n",
    "\n",
    "在 Jupyter Notebook 中，程式碼儲存格是依序執行的，每個儲存格的執行結果會儲存在記憶體中。\n",
    "\n",
    "如果你修改了一個儲存格的內容（例如修改了變數的值），但沒有重新執行與其相關的所有儲存格，那麼這些修改不會影響到已經執行過的程式碼。"
   ]
  },
  {
   "cell_type": "code",
   "execution_count": null,
   "metadata": {},
   "outputs": [],
   "source": [
    "class Config:\n",
    "    POP_SIZE = 500  # 種群大小\n",
    "    GENERATIONS = 100  # 世代數\n",
    "    MUTATION_DELTA = 0.5  # 變異幅度\n",
    "    MUTATION_RATE = 0.6  # 變異率\n",
    "\n",
    "    SELECTION_STRATEGY = \"tournament\"  # \"roulette\", \"tournament\", \"rank_based\"\n",
    "    TOURNAMENT_SIZE = 5  # 錦標賽選擇(tournament)的大小"
   ]
  },
  {
   "cell_type": "markdown",
   "metadata": {},
   "source": [
    "### 目標函數\n",
    "\n",
    "$$\\text{Minimize } f(x, y) = -\\cos(\\pi y) - \\exp(-\\pi (x - 0.5)^2) \\sin^2(\\pi x)$$"
   ]
  },
  {
   "cell_type": "code",
   "execution_count": null,
   "metadata": {},
   "outputs": [],
   "source": [
    "class ObjectiveFunction:\n",
    "    @staticmethod\n",
    "    def evaluate(x, y):\n",
    "        return -np.cos(np.pi * y) - np.exp(-np.pi * (x - 0.5)**2) * np.sin(np.pi * x)**2"
   ]
  },
  {
   "cell_type": "markdown",
   "metadata": {},
   "source": [
    "### 個體基因\n",
    "\n",
    "兩個基因，分別代表 x, y\n",
    "\n",
    "   $$-1 \\leq x \\leq 2$$\n",
    "   $$4 \\leq y \\leq 6$$\n",
    "   $$x + y \\geq 5$$"
   ]
  },
  {
   "cell_type": "code",
   "execution_count": null,
   "metadata": {},
   "outputs": [],
   "source": [
    "class Individual:\n",
    "    # 初始化個體，沒有提供 x 和 y 則隨機生成\n",
    "    def __init__(self, x=None, y=None):\n",
    "        if x is None or y is None:\n",
    "            self.x = np.random.uniform(-1, 2)\n",
    "            self.y = np.random.uniform(4, 6)\n",
    "            while self.x + self.y < 5:\n",
    "                self.x = np.random.uniform(-1, 2)\n",
    "                self.y = np.random.uniform(4, 6)\n",
    "        else:\n",
    "            self.x = x\n",
    "            self.y = y\n",
    "\n",
    "    # 計算個體的適應度\n",
    "    def fitness(self):\n",
    "        return ObjectiveFunction.evaluate(self.x, self.y)\n",
    "\n",
    "    # 根據變異率對個體進行變異\n",
    "    def mutate(self, mutation_rate=Config.MUTATION_RATE):\n",
    "        if np.random.rand() < mutation_rate: # 以 mutation_rate 的機率進行變異\n",
    "            self.x += np.random.uniform(-Config.MUTATION_DELTA, Config.MUTATION_DELTA) # 變異幅度\n",
    "            self.y += np.random.uniform(-Config.MUTATION_DELTA, Config.MUTATION_DELTA)\n",
    "            self.x = np.clip(self.x, -1, 2) # 防止變異後超出範圍，限制在 [-1, 2] 和 [4, 6] 之間\n",
    "            self.y = np.clip(self.y, 4, 6)\n",
    "            if self.x + self.y < 5: # 如果變異後不符合限制條件，\n",
    "                self.y = 5 - self.x # ???"
   ]
  },
  {
   "cell_type": "markdown",
   "metadata": {},
   "source": [
    "### 選擇方法\n",
    "\n",
    "基因演算法（Genetic Algorithm, GA）中，選擇策略是決定哪些個體（解）會被選擇來產生下一代。這些策略的目的是確保好的個體有更高的機會被選中，同時維持一定的多樣性。\n",
    "\n",
    "1. **輪盤賭選擇（Roulette Wheel Selection）**：\n",
    "    - **原理**：這種方法根據個體的適應度來選擇個體。適應度越高的個體被選中的概率越大。可以想像成一個輪盤，每個個體占據的區域大小與其適應度成正比。\n",
    "    - **優點**：簡單直觀，適應度高的個體有較大機會被選中。\n",
    "    - **缺點**：如果適應度差異很大，適應度低的個體幾乎沒有機會被選中，可能導致早熟收斂（premature convergence）。\n",
    "\n",
    "2. **錦標賽選擇（Tournament Selection）**：\n",
    "    - **原理**：從種群中隨機選擇一小部分個體（通常稱為錦標賽大小），然後從中選擇適應度最高的個體。這個過程重複多次，直到選出足夠多的個體。\n",
    "    - **優點**：實現簡單，能夠調整選擇壓力（通過改變錦標賽大小來控制選擇壓力），適應度差異不大的情況下效果較好。\n",
    "    - **缺點**：如果錦標賽大小過大，可能導致選擇壓力過大，從而導致多樣性降低；如果過小，選擇壓力過小，進化速度變慢。\n",
    "\n",
    "3. **基於排名的選擇（Rank-Based Selection）**：\n",
    "    - **原理**：首先根據個體的適應度對整個種群進行排序，然後根據個體的排名來分配選擇概率。排名越高的個體選擇概率越大，但這種概率分配是基於排名而不是適應度。\n",
    "    - **優點**：能夠避免適應度值差異過大導致的問題，保持種群多樣性，防止早熟收斂。\n",
    "    - **缺點**：需要對種群進行排序，可能會增加計算複雜度。\n",
    "\n",
    "總結：\n",
    "- **輪盤賭選擇**適合適應度分佈較均勻的情況，但可能會導致早熟收斂。\n",
    "- **錦標賽選擇**靈活性較高，可以通過調整錦標賽大小來控制選擇壓力，適應範圍較廣。\n",
    "- **基於排名的選擇**能夠有效避免適應度差異過大的問題，保持種群多樣性，但計算量相對較大。"
   ]
  },
  {
   "cell_type": "code",
   "execution_count": null,
   "metadata": {},
   "outputs": [],
   "source": [
    "# from abc import ABC, abstractmethod\n",
    "# import numpy as np\n",
    "# from typing import List\n",
    "\n",
    "class SelectionStrategy(ABC):\n",
    "    @abstractmethod\n",
    "    def select_parents(self, population: List[Individual]) -> List[Individual]:\n",
    "        pass\n",
    "\n",
    "class RouletteWheelSelection(SelectionStrategy):\n",
    "    def select_parents(self, population: List[Individual]) -> List[Individual]:\n",
    "        fitness = np.array([individual.fitness() for individual in population])\n",
    "        fitness -= fitness.min()\n",
    "        if fitness.sum() == 0:\n",
    "            fitness = np.ones_like(fitness)\n",
    "        probabilities = fitness / fitness.sum()\n",
    "        selected_indices = np.random.choice(len(population), size=len(population), p=probabilities)\n",
    "        return [population[i] for i in selected_indices]\n",
    "\n",
    "class TournamentSelection(SelectionStrategy):\n",
    "    def __init__(self, tournament_size: int):\n",
    "        self.tournament_size = tournament_size\n",
    "\n",
    "    def select_parents(self, population: List[Individual]) -> List[Individual]:\n",
    "        fitness = np.array([individual.fitness() for individual in population])\n",
    "        selected = []\n",
    "        for _ in range(len(population)):\n",
    "            tournament = np.random.choice(len(population), self.tournament_size)\n",
    "            best = tournament[np.argmax(fitness[tournament])]\n",
    "            selected.append(population[best])\n",
    "        return selected\n",
    "\n",
    "class RankBasedSelection(SelectionStrategy):\n",
    "    def select_parents(self, population: List[Individual]) -> List[Individual]:\n",
    "        fitness = np.array([individual.fitness() for individual in population])\n",
    "        ranks = np.argsort(np.argsort(fitness))\n",
    "        probabilities = ranks / ranks.sum()\n",
    "        selected_indices = np.random.choice(len(population), size=len(population), p=probabilities)\n",
    "        return [population[i] for i in selected_indices]"
   ]
  },
  {
   "cell_type": "markdown",
   "metadata": {},
   "source": [
    "### 交配並產生下一代\n",
    "\n",
    "**Selection：**\n",
    "- 使用上面三種選擇方法\n",
    "\n",
    "**Crossover：**\n",
    "- 線性插值交叉（Linear Interpolation Crossover）\n",
    "    - 通過在父母個體之間進行線性插值來生成子代個體，屬於連續變量優化問題中的交叉技術。\n",
    "\n",
    "**Mutation：**\n",
    "- 位於 Individual class 中。\n",
    "- 均勻突變（Uniform Mutation）"
   ]
  },
  {
   "cell_type": "code",
   "execution_count": null,
   "metadata": {},
   "outputs": [],
   "source": [
    "class Population:\n",
    "    def __init__(self, size, selection_strategy: SelectionStrategy):\n",
    "        self.individuals = [Individual() for _ in range(size)]\n",
    "        self.selection_strategy = selection_strategy\n",
    "\n",
    "    # 計算種群中所有個體的適應度\n",
    "    def evaluate(self):\n",
    "        return [individual.fitness() for individual in self.individuals]\n",
    "\n",
    "    # 選擇父母\n",
    "    def select_parents(self):\n",
    "        return self.selection_strategy.select_parents(self.individuals) # 由選擇策略來選擇父母\n",
    "\n",
    "    def crossover(self, parent1, parent2):\n",
    "        alpha = np.random.rand()\n",
    "        x_child = alpha * parent1.x + (1 - alpha) * parent2.x\n",
    "        y_child = alpha * parent1.y + (1 - alpha) * parent2.y\n",
    "        return Individual(x_child, y_child)\n",
    "\n",
    "    def generate_next_population(self, parents, mutation_rate):\n",
    "        next_population = []\n",
    "        for i in range(0, len(parents), 2):\n",
    "            parent1, parent2 = parents[i], parents[i+1]\n",
    "            child1 = self.crossover(parent1, parent2)\n",
    "            child2 = self.crossover(parent2, parent1)\n",
    "            child1.mutate(mutation_rate)\n",
    "            child2.mutate(mutation_rate)\n",
    "            next_population.extend([child1, child2])\n",
    "        self.individuals = next_population\n",
    "\n",
    "    def get_best_individual(self):\n",
    "        return min(self.individuals, key=lambda individual: individual.fitness())"
   ]
  },
  {
   "cell_type": "markdown",
   "metadata": {},
   "source": [
    "### GeneticAlgorithm Class：\n",
    "   - 管理基因演算法的整個流程。"
   ]
  },
  {
   "cell_type": "code",
   "execution_count": null,
   "metadata": {},
   "outputs": [],
   "source": [
    "class GeneticAlgorithm:\n",
    "    def __init__(self, pop_size=Config.POP_SIZE, generations=Config.GENERATIONS, selection_strategy=Config.SELECTION_STRATEGY,mutation_rate=Config.MUTATION_RATE):\n",
    "        self.pop_size = pop_size\n",
    "        self.generations = generations\n",
    "        self.selection_strategy = selection_strategy\n",
    "        self.mutation_rate = mutation_rate\n",
    "\n",
    "    def run(self):\n",
    "        population = Population(self.pop_size, self.selection_strategy)\n",
    "        global_best_individual = population.get_best_individual()\n",
    "        for generation in range(self.generations):\n",
    "            parents = population.select_parents()\n",
    "            population.generate_next_population(parents, self.mutation_rate)\n",
    "            best_individual = population.get_best_individual()\n",
    "            if best_individual.fitness() < global_best_individual.fitness():\n",
    "                global_best_individual = best_individual\n",
    "\n",
    "            print(f\"Generation {generation+1}:\")\n",
    "            print(f\"  Current Best Individual: (x: {best_individual.x:.6f}, y: {best_individual.y:.6f}), Fitness = {best_individual.fitness():.6f}\")\n",
    "            print(f\"  Global Best Individual:  (x: {global_best_individual.x:.6f}, y: {global_best_individual.y:.6f}), Fitness = {global_best_individual.fitness():.6f}\")\n",
    "            print(\"-\" * 50)\n",
    "\n",
    "        return global_best_individual"
   ]
  },
  {
   "cell_type": "markdown",
   "metadata": {},
   "source": [
    "## 主程式"
   ]
  },
  {
   "cell_type": "code",
   "execution_count": null,
   "metadata": {},
   "outputs": [],
   "source": [
    "if __name__ == \"__main__\":\n",
    "\n",
    "    if Config.SELECTION_STRATEGY == \"roulette\":\n",
    "        selection_strategy = RouletteWheelSelection()\n",
    "    elif Config.SELECTION_STRATEGY == \"tournament\":\n",
    "        selection_strategy = TournamentSelection(tournament_size=Config.TOURNAMENT_SIZE)\n",
    "    elif Config.SELECTION_STRATEGY == \"rank_based\":\n",
    "        selection_strategy = RankBasedSelection()\n",
    "    else:\n",
    "        raise ValueError(\"Invalid selection strategy\")\n",
    "\n",
    "    ga = GeneticAlgorithm(selection_strategy=selection_strategy)\n",
    "    best_solution = ga.run()\n",
    "    print(f\"最佳解: x = {best_solution.x}, y = {best_solution.y}, f(x, y) = {best_solution.fitness()}\")"
   ]
  }
 ],
 "metadata": {
  "kernelspec": {
   "display_name": "m113-summer",
   "language": "python",
   "name": "python3"
  },
  "language_info": {
   "codemirror_mode": {
    "name": "ipython",
    "version": 3
   },
   "file_extension": ".py",
   "mimetype": "text/x-python",
   "name": "python",
   "nbconvert_exporter": "python",
   "pygments_lexer": "ipython3",
   "version": "3.10.0"
  }
 },
 "nbformat": 4,
 "nbformat_minor": 2
}
