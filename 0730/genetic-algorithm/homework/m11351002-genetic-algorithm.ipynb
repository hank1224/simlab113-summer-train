{
 "cells": [
  {
   "cell_type": "markdown",
   "metadata": {},
   "source": [
    "# 作業要求\n",
    "\n",
    "- 程式檔\n",
    "- 影片檔（文字詳細說明也可）\n",
    "- 兩張圖\n",
    "    - log: Gen, best fit, x, y, x+y, history_best_fit\n",
    "    - 圖表：Fitness/lteration"
   ]
  }
 ],
 "metadata": {
  "language_info": {
   "name": "python"
  }
 },
 "nbformat": 4,
 "nbformat_minor": 2
}
