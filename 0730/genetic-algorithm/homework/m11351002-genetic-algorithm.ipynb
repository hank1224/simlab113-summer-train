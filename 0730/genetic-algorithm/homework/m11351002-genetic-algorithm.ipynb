{
 "cells": [
  {
   "cell_type": "markdown",
   "metadata": {},
   "source": [
    "# 作業：基因演算法\n",
    "\n",
    "- 程式檔\n",
    "- 影片檔（文字詳細說明也可）\n",
    "- 兩張圖\n",
    "    - log: Gen, best fit, x, y, x+y, history_best_fit\n",
    "    - 圖表：Fitness/lteration\n",
    "\n",
    "## 題目\n",
    "\n",
    "1. **目標函數**：\n",
    "\n",
    "   $$\\text{Minimize } f(x, y) = -\\cos(\\pi y) - \\exp(-\\pi (x - 0.5)^2) \\sin^2(\\pi x)$$\n",
    "\n",
    "2. **約束條件**：\n",
    "\n",
    "   $$-1 \\leq x \\leq 2$$\n",
    "   $$4 \\leq y \\leq 6$$\n",
    "   $$x + y \\geq 25$$\n",
    "\n",
    "\n",
    "2. **答案：極小值**：\n",
    "\n",
    "   $$\\text{Minimum } = -2 \\text{ at } (x, y) = (0.5, 6)$$\n"
   ]
  }
 ],
 "metadata": {
  "language_info": {
   "name": "python"
  }
 },
 "nbformat": 4,
 "nbformat_minor": 2
}
