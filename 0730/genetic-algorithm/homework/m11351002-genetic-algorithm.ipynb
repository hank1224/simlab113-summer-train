{
 "cells": [
  {
   "cell_type": "markdown",
   "metadata": {},
   "source": [
    "# 作業：基因演算法\n",
    "\n",
    "- 程式檔\n",
    "- 影片檔（文字詳細說明也可）\n",
    "- 兩張圖\n",
    "    - log: Gen, best fit, x, y, x+y, history_best_fit\n",
    "    - 圖表：Fitness/lteration\n",
    "\n",
    "## 題目\n",
    "\n",
    "1. **目標函數**：\n",
    "\n",
    "   $$\\text{Minimize } f(x, y) = -\\cos(\\pi y) - \\exp(-\\pi (x - 0.5)^2) \\sin^2(\\pi x)$$\n",
    "\n",
    "2. **約束條件**：\n",
    "\n",
    "   $$-1 \\leq x \\leq 2$$\n",
    "   $$4 \\leq y \\leq 6$$\n",
    "   $$x + y \\geq 5$$\n",
    "\n",
    "\n",
    "2. **答案**：\n",
    "\n",
    "   $$\\text{Minimum } = -2 \\text{ at } (x, y) = (0.5, 6)$$\n"
   ]
  },
  {
   "cell_type": "markdown",
   "metadata": {},
   "source": [
    "# 程式碼\n",
    "\n",
    "## 物件架構\n",
    "1. **ObjectiveFunction 類別**：\n",
    "   - 包含一個靜態方法 `evaluate`，用於計算目標函數的值。\n",
    "\n",
    "2. **Individual 類別**：\n",
    "   - 表示一個個體，包含 \\(x\\) 和 \\(y\\) 變量。\n",
    "   - `__init__` 方法初始化個體，如果沒有提供 \\(x\\) 和 \\(y\\) 則隨機生成。\n",
    "   - `fitness` 方法計算個體的適應度。\n",
    "   - `mutate` 方法根據變異率對個體進行變異。\n",
    "\n",
    "3. **Population 類別**：\n",
    "   - 管理一個種群，包含多個個體。\n",
    "   - `__init__` 方法初始化種群。\n",
    "   - `evaluate` 方法計算種群中所有個體的適應度。\n",
    "   - `select_parents` 方法根據適應度選擇父母。\n",
    "   - `crossover` 方法生成子代。\n",
    "   - `generate_next_population` 方法生成下一代種群。\n",
    "   - `get_best_individual` 方法獲取種群中適應度最好的個體。\n",
    "\n",
    "4. **GeneticAlgorithm 類別**：\n",
    "   - 管理基因演算法的整個流程。\n",
    "   - `__init__` 方法初始化基因演算法的參數。\n",
    "   - `run` 方法運行基因演算法，進行多代進化，並返回最優解。"
   ]
  },
  {
   "cell_type": "code",
   "execution_count": null,
   "metadata": {},
   "outputs": [],
   "source": []
  }
 ],
 "metadata": {
  "kernelspec": {
   "display_name": "m113-summer",
   "language": "python",
   "name": "python3"
  },
  "language_info": {
   "codemirror_mode": {
    "name": "ipython",
    "version": 3
   },
   "file_extension": ".py",
   "mimetype": "text/x-python",
   "name": "python",
   "nbconvert_exporter": "python",
   "pygments_lexer": "ipython3",
   "version": "3.10.0"
  }
 },
 "nbformat": 4,
 "nbformat_minor": 2
}
