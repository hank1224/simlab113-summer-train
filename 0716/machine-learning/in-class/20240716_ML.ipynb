{
 "cells": [
  {
   "cell_type": "markdown",
   "metadata": {},
   "source": [
    "## 練習一：回歸問題(Regression)"
   ]
  },
  {
   "cell_type": "markdown",
   "metadata": {},
   "source": [
    "#### 1.1導入需要的函式"
   ]
  },
  {
   "cell_type": "code",
   "execution_count": null,
   "metadata": {
    "ExecuteTime": {
     "end_time": "2024-07-26T14:51:10.760653Z",
     "start_time": "2024-07-26T14:51:10.601517Z"
    }
   },
   "outputs": [],
   "source": [
    "import pandas as pd\n",
    "import numpy as np\n",
    "import matplotlib.pyplot as plt\n",
    "import sklearn.ensemble\n",
    "\n",
    "from sklearn.metrics import mean_squared_error, confusion_matrix\n",
    "from sklearn.metrics import mean_absolute_error,mean_squared_error,mean_absolute_percentage_error\n",
    "from sklearn.model_selection import train_test_split\n",
    "from sklearn.linear_model import LinearRegression"
   ]
  },
  {
   "cell_type": "markdown",
   "metadata": {},
   "source": [
    "#### 1.2查看資料樣態"
   ]
  },
  {
   "cell_type": "code",
   "execution_count": null,
   "metadata": {
    "ExecuteTime": {
     "end_time": "2024-07-26T14:51:10.770564Z",
     "start_time": "2024-07-26T14:51:10.761561Z"
    }
   },
   "outputs": [],
   "source": [
    "# 載入小費(tips)資料集\n",
    "tips = pd.read_csv(r'./tips.csv')\n",
    "tips.head()"
   ]
  },
  {
   "cell_type": "markdown",
   "metadata": {},
   "source": [
    "#### 1.3資料前處理"
   ]
  },
  {
   "cell_type": "code",
   "execution_count": null,
   "metadata": {
    "ExecuteTime": {
     "end_time": "2024-07-26T14:51:10.780998Z",
     "start_time": "2024-07-26T14:51:10.772349Z"
    }
   },
   "outputs": [],
   "source": [
    "# 進行One hot encoding\n",
    "data = pd.get_dummies(tips) \n",
    "data.head()"
   ]
  },
  {
   "cell_type": "code",
   "execution_count": null,
   "metadata": {
    "ExecuteTime": {
     "end_time": "2024-07-26T14:51:10.784056Z",
     "start_time": "2024-07-26T14:51:10.781686Z"
    }
   },
   "outputs": [],
   "source": [
    "# 檢查空值\n",
    "data.isnull().values.any()"
   ]
  },
  {
   "cell_type": "markdown",
   "metadata": {},
   "source": [
    "#### 1.4資料集切分"
   ]
  },
  {
   "cell_type": "code",
   "execution_count": null,
   "metadata": {
    "ExecuteTime": {
     "end_time": "2024-07-26T14:51:10.788872Z",
     "start_time": "2024-07-26T14:51:10.784617Z"
    }
   },
   "outputs": [],
   "source": [
    "# 特徵/標籤劃分\n",
    "feature = data.drop('total_bill',axis=1)\n",
    "label = data['total_bill']\n",
    "\n",
    "X_train, X_test, y_train, y_test = train_test_split(feature, label, random_state=0) #訓練測試資料拆分"
   ]
  },
  {
   "cell_type": "code",
   "execution_count": null,
   "metadata": {
    "ExecuteTime": {
     "end_time": "2024-07-26T14:51:10.797845Z",
     "start_time": "2024-07-26T14:51:10.789562Z"
    }
   },
   "outputs": [],
   "source": [
    "# 模型建立與預測\n",
    "model = LinearRegression()\n",
    "model.fit(X_train, y_train)\n",
    "y_pred=model.predict(X_test)"
   ]
  },
  {
   "cell_type": "code",
   "execution_count": null,
   "metadata": {
    "ExecuteTime": {
     "end_time": "2024-07-26T14:51:10.899736Z",
     "start_time": "2024-07-26T14:51:10.798660Z"
    }
   },
   "outputs": [],
   "source": [
    "# 結果可視化\n",
    "plt.figure(figsize=(10,4))\n",
    "plt.plot(range(len(y_test)),y_test,'o-', label=\"Real\")\n",
    "plt.plot(range(len(y_pred)),y_pred,'o-', label=\"Pred\")\n",
    "plt.legend()\n",
    "plt.ylabel(\"total_bill\")\n",
    "plt.show()"
   ]
  },
  {
   "cell_type": "code",
   "execution_count": null,
   "metadata": {
    "ExecuteTime": {
     "end_time": "2024-07-26T14:51:10.930507Z",
     "start_time": "2024-07-26T14:51:10.900499Z"
    }
   },
   "outputs": [],
   "source": [
    "print('MAE:',mean_absolute_error(y_test,y_pred)) #計算 MAE\n",
    "print('MSE:',mean_squared_error(y_test,y_pred)) #計算 MSE\n",
    "print('RMSE:',np.sqrt(mean_squared_error(y_test,y_pred))) #計算 RMSE\n",
    "print('MAPE:',mean_absolute_percentage_error(y_test,y_pred)) #計算 MAPE \n",
    "\n",
    "# **真實值在前，預測值在後"
   ]
  },
  {
   "cell_type": "markdown",
   "metadata": {},
   "source": [
    "## 練習二：分類問題(Classification)"
   ]
  },
  {
   "cell_type": "code",
   "execution_count": null,
   "metadata": {
    "ExecuteTime": {
     "end_time": "2024-07-26T14:51:10.988462Z",
     "start_time": "2024-07-26T14:51:10.931333Z"
    }
   },
   "outputs": [],
   "source": [
    "# 載入需要的套件\n",
    "from sklearn.datasets import load_iris\n",
    "from sklearn.tree import DecisionTreeClassifier\n",
    "from sklearn.metrics import accuracy_score, confusion_matrix, classification_report\n",
    "from sklearn.preprocessing import MinMaxScaler"
   ]
  },
  {
   "cell_type": "code",
   "execution_count": null,
   "metadata": {
    "ExecuteTime": {
     "end_time": "2024-07-26T14:51:11.000058Z",
     "start_time": "2024-07-26T14:51:10.989365Z"
    }
   },
   "outputs": [],
   "source": [
    "# 將資料集存成Dataframe格式\n",
    "df = pd.DataFrame(data= load_iris().data, columns=load_iris().feature_names)\n",
    "df['Target'] = load_iris().target\n",
    "df"
   ]
  },
  {
   "cell_type": "code",
   "execution_count": null,
   "metadata": {
    "ExecuteTime": {
     "end_time": "2024-07-26T14:51:11.003308Z",
     "start_time": "2024-07-26T14:51:11.001042Z"
    }
   },
   "outputs": [],
   "source": [
    "# 把特徵與目標分開\n",
    "X = df.drop('Target' , axis=1)\n",
    "y = df['Target']"
   ]
  },
  {
   "cell_type": "code",
   "execution_count": null,
   "metadata": {
    "ExecuteTime": {
     "end_time": "2024-07-26T14:51:11.008526Z",
     "start_time": "2024-07-26T14:51:11.005284Z"
    }
   },
   "outputs": [],
   "source": [
    "# 做正規化 (不是標準化!!!!!!)\n",
    "X = MinMaxScaler().fit_transform(X)"
   ]
  },
  {
   "cell_type": "code",
   "execution_count": null,
   "metadata": {
    "ExecuteTime": {
     "end_time": "2024-07-26T14:51:11.012251Z",
     "start_time": "2024-07-26T14:51:11.009311Z"
    }
   },
   "outputs": [],
   "source": [
    "# 切分資料集\n",
    "X_train, X_test, y_train, y_test = train_test_split(X, y, test_size=0.2, random_state=42)"
   ]
  },
  {
   "cell_type": "code",
   "execution_count": null,
   "metadata": {
    "ExecuteTime": {
     "end_time": "2024-07-26T14:51:11.018360Z",
     "start_time": "2024-07-26T14:51:11.013288Z"
    }
   },
   "outputs": [],
   "source": [
    "# 訓練模型\n",
    "cart = DecisionTreeClassifier()\n",
    "cart.fit(X_train, y_train)"
   ]
  },
  {
   "cell_type": "code",
   "execution_count": null,
   "metadata": {
    "ExecuteTime": {
     "end_time": "2024-07-26T15:51:23.602795Z",
     "start_time": "2024-07-26T15:51:23.599962Z"
    }
   },
   "outputs": [],
   "source": [
    "# 使用測試集來進行預測\n",
    "y_pred = cart.predict(X_test)"
   ]
  },
  {
   "cell_type": "code",
   "execution_count": null,
   "metadata": {
    "ExecuteTime": {
     "end_time": "2024-07-26T14:51:11.029137Z",
     "start_time": "2024-07-26T14:51:11.021731Z"
    }
   },
   "outputs": [],
   "source": [
    "# 評估指標\n",
    "print('ACC: ', accuracy_score(y_test, y_pred))\n",
    "print('Confusion matrix: \\n', confusion_matrix(y_test, y_pred))\n",
    "print('Report : \\n', classification_report(y_test, y_pred))"
   ]
  },
  {
   "cell_type": "markdown",
   "metadata": {},
   "source": [
    "## 練習三：聚類問題(Clustering)"
   ]
  },
  {
   "cell_type": "code",
   "execution_count": null,
   "metadata": {
    "ExecuteTime": {
     "end_time": "2024-07-26T14:51:11.057899Z",
     "start_time": "2024-07-26T14:51:11.030010Z"
    }
   },
   "outputs": [],
   "source": [
    "from sklearn.cluster import KMeans"
   ]
  },
  {
   "cell_type": "code",
   "execution_count": null,
   "metadata": {
    "ExecuteTime": {
     "end_time": "2024-07-26T14:51:11.172931Z",
     "start_time": "2024-07-26T14:51:11.058595Z"
    }
   },
   "outputs": [],
   "source": [
    "km = KMeans(n_clusters=3)\n",
    "## 沿用上面iris資料集的數據\n",
    "km.fit(X)\n",
    "plt.scatter(X[:, 0], X[:, 1], c=km.labels_)\n",
    "## x是每群的中心\n",
    "plt.scatter(km.cluster_centers_[:, 0], km.cluster_centers_[:, 1], marker='x', s=100, color='red')\n",
    "plt.show()"
   ]
  }
 ],
 "metadata": {
  "kernelspec": {
   "display_name": "simslab",
   "language": "python",
   "name": "python3"
  },
  "language_info": {
   "codemirror_mode": {
    "name": "ipython",
    "version": 3
   },
   "file_extension": ".py",
   "mimetype": "text/x-python",
   "name": "python",
   "nbconvert_exporter": "python",
   "pygments_lexer": "ipython3",
   "version": "3.10.0"
  }
 },
 "nbformat": 4,
 "nbformat_minor": 2
}
