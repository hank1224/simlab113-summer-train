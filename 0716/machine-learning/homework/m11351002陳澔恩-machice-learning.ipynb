{
 "cells": [
  {
   "cell_type": "markdown",
   "id": "0",
   "metadata": {},
   "source": [
    "# 機器學習作業\n",
    "\n",
    "1. 資料來源：[https://www.kaggle.com/competitions/boston20200827/](https://www.kaggle.com/competitions/boston20200827/)\n",
    "2. 要求：\n",
    "- 完整的機器學習預測流程,包括:資料前處理、視覺化、模型訓練、預測、結果評估等。\n",
    "- 至少使用兩種模型並比較其效果。\n",
    "\n",
    "## 資料欄位說明\n",
    "\n",
    "| 欄位      | 說明                                           |\n",
    "|-----------|------------------------------------------------|\n",
    "| ID        | 資料的唯一識別碼。                             |\n",
    "| CRIM      | 每人均犯罪率。                                 |\n",
    "| ZN        | 佔地面積超過 25,000 平方英尺的住宅用地比例。   |\n",
    "| INDUS     | 每鎮非零售業務用地的比例。                     |\n",
    "| CHAS      | 查爾斯河虛擬變數（= 1 如果地段鄰近河流；否則為 0）。|\n",
    "| NOX       | 一氧化氮濃度（每 10 百萬分之一）。             |\n",
    "| RM        | 每棟住宅的平均房間數。                         |\n",
    "| AGE       | 1940 年之前建造的自住單位比例。                 |\n",
    "| DIS?      | 到波士頓五個就業中心的加權平均距離。           |\n",
    "| RAD       | 到放射狀公路的可達性指數。                     |\n",
    "| TAX       | 每 10,000 美元的房產稅率。                     |\n",
    "| PTRATIO   | 每個城鎮的學生與教師比例。                     |\n",
    "| B 1000    | 1000(Bk - 0.63)^2，其中 Bk 是鎮上黑人比例。    |\n",
    "| LSTAT     | 低收入人口的比例（百分比）。                   |\n",
    "| PRICE     | 自住單位的中位數價格（以千美元計）。           |\n",
    "\n",
    "\n",
    "推測自這份資料：[https://www.kaggle.com/competitions/boston-dataset/data?select=boston_data.csv](https://www.kaggle.com/competitions/boston-dataset/data?select=boston_data.csv)\n",
    "\n",
    "\n",
    "## 載入資料"
   ]
  },
  {
   "cell_type": "code",
   "execution_count": null,
   "id": "1",
   "metadata": {},
   "outputs": [],
   "source": [
    "import pandas as pd\n",
    "import numpy as np\n",
    "import matplotlib.pyplot as plt\n",
    "import seaborn as sns"
   ]
  },
  {
   "cell_type": "code",
   "execution_count": null,
   "id": "2",
   "metadata": {},
   "outputs": [],
   "source": [
    "train_df = pd.read_csv(r'./boston20200827/Boston_train.csv')\n",
    "test_df = pd.read_csv(r'./boston20200827/Boston_test.csv')\n",
    "combined_df = pd.concat([train_df, test_df], sort=False)\n",
    "\n",
    "train_df.head()"
   ]
  },
  {
   "cell_type": "code",
   "execution_count": null,
   "id": "3",
   "metadata": {},
   "outputs": [],
   "source": [
    "combined_df.describe()"
   ]
  },
  {
   "cell_type": "code",
   "execution_count": null,
   "id": "4",
   "metadata": {},
   "outputs": [],
   "source": [
    "combined_df.info()"
   ]
  },
  {
   "cell_type": "markdown",
   "id": "5",
   "metadata": {},
   "source": [
    "## 資料視覺化"
   ]
  },
  {
   "cell_type": "code",
   "execution_count": null,
   "id": "6",
   "metadata": {},
   "outputs": [],
   "source": [
    "plt.figure(figsize=(50,50))\n",
    "sns.pairplot(combined_df)"
   ]
  },
  {
   "cell_type": "code",
   "execution_count": null,
   "id": "7",
   "metadata": {},
   "outputs": [],
   "source": [
    "sns.displot(combined_df['PRICE'])"
   ]
  },
  {
   "cell_type": "code",
   "execution_count": null,
   "id": "8",
   "metadata": {},
   "outputs": [],
   "source": [
    "plt.figure(figsize=(50,50))\n",
    "sns.heatmap(combined_df.corr(), annot=True)"
   ]
  },
  {
   "cell_type": "markdown",
   "id": "9",
   "metadata": {},
   "source": [
    "## 資料前處理"
   ]
  },
  {
   "cell_type": "code",
   "execution_count": null,
   "id": "10",
   "metadata": {},
   "outputs": [],
   "source": [
    "combined_df.isnull().sum()"
   ]
  },
  {
   "cell_type": "markdown",
   "id": "11",
   "metadata": {},
   "source": [
    "模型的目標是預測房價（PRICE），因此缺少目標值的數據對於訓練模型來說是沒有意義的。\n",
    "\n",
    "這些缺失目標值的樣本無法提供有用的信息來幫助模型學習，因此應該將它們從訓練數據中移除。"
   ]
  },
  {
   "cell_type": "code",
   "execution_count": null,
   "id": "12",
   "metadata": {},
   "outputs": [],
   "source": [
    "combined_df = combined_df.dropna(subset=['PRICE'])\n",
    "combined_df.isnull().sum()"
   ]
  },
  {
   "cell_type": "markdown",
   "id": "13",
   "metadata": {},
   "source": [
    "## 特徵工程"
   ]
  },
  {
   "cell_type": "code",
   "execution_count": null,
   "id": "14",
   "metadata": {},
   "outputs": [],
   "source": []
  }
 ],
 "metadata": {
  "kernelspec": {
   "display_name": "Python 3",
   "language": "python",
   "name": "python3"
  },
  "language_info": {
   "codemirror_mode": {
    "name": "ipython",
    "version": 3
   },
   "file_extension": ".py",
   "mimetype": "text/x-python",
   "name": "python",
   "nbconvert_exporter": "python",
   "pygments_lexer": "ipython3",
   "version": "3.10.0"
  }
 },
 "nbformat": 4,
 "nbformat_minor": 5
}
