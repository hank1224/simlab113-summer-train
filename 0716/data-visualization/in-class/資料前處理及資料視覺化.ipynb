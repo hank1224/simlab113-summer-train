{
 "cells": [
  {
   "cell_type": "code",
   "execution_count": null,
   "metadata": {
    "id": "DlIpCNTHIMcj"
   },
   "outputs": [],
   "source": [
    "import pandas as pd\n",
    "import numpy as np"
   ]
  },
  {
   "cell_type": "code",
   "execution_count": null,
   "metadata": {
    "id": "rpfWs6b3IMck",
    "outputId": "1935da0d-24a0-4fa9-aeae-bac64a024ce0"
   },
   "outputs": [],
   "source": [
    "df = pd.read_csv('./product review.csv')\n",
    "df.head()"
   ]
  },
  {
   "cell_type": "markdown",
   "metadata": {
    "id": "70O7cWR3IMcl"
   },
   "source": [
    "## 資料前處理"
   ]
  },
  {
   "cell_type": "code",
   "execution_count": null,
   "metadata": {
    "id": "huHkI6KyIMcl",
    "outputId": "b9ae744e-3e7d-4c58-fe9b-badcb9973da8"
   },
   "outputs": [],
   "source": [
    "df.info()"
   ]
  },
  {
   "cell_type": "markdown",
   "metadata": {
    "id": "-OzNXSP2IMcm"
   },
   "source": [
    "### 資料清理 (Data Cleaning)\n",
    "\n",
    "- isnull():檢查空值，回傳布林值\n",
    "- notnull():檢查不是空值，回傳布林值\n",
    "- dropna():刪除空值\n",
    "- fillna():填入空值"
   ]
  },
  {
   "cell_type": "code",
   "execution_count": null,
   "metadata": {
    "id": "UlJsJgSIIMcm"
   },
   "outputs": [],
   "source": [
    "# 刪除缺失值(行)\n",
    "df.dropna(inplace=True)"
   ]
  },
  {
   "cell_type": "markdown",
   "metadata": {
    "id": "_mhTur5vIMcm"
   },
   "source": [
    "### 類別資料的處理"
   ]
  },
  {
   "cell_type": "code",
   "execution_count": null,
   "metadata": {
    "id": "kZ8IdgeBIMcm",
    "outputId": "5f929e7c-7074-4e3b-b172-d54959b11f46"
   },
   "outputs": [],
   "source": [
    "# Label Encoding\n",
    "\n",
    "from sklearn.preprocessing import LabelEncoder\n",
    "label = LabelEncoder()\n",
    "df['Season_Label'] = label.fit_transform(df['Season'])\n",
    "df[['Season', 'Season_Label']] "
   ]
  },
  {
   "cell_type": "code",
   "execution_count": null,
   "metadata": {
    "id": "o8cr8BgGIMcn",
    "outputId": "3525e7f1-6c16-4c86-f669-0a6a21b851e2"
   },
   "outputs": [],
   "source": [
    "# One-hot Encoding\n",
    "\n",
    "onehot = pd.get_dummies(df['Season'])\n",
    "pd.concat([df['Season'],onehot], axis=1)"
   ]
  },
  {
   "cell_type": "markdown",
   "metadata": {
    "id": "4WbUefVjIMcn"
   },
   "source": [
    "### 類別資料的處理"
   ]
  },
  {
   "cell_type": "code",
   "execution_count": null,
   "metadata": {
    "id": "X052e_qBIMcn",
    "outputId": "5540309b-5082-4301-cb68-683d7a05e76b"
   },
   "outputs": [],
   "source": [
    "# Max-Min\n",
    "from IPython.display import Math\n",
    "\n",
    "Math(r'x^{(i)}_{norm}=\\frac{x^{(i)}-x_{min}}{x_{max}-x_{min}}')"
   ]
  },
  {
   "cell_type": "code",
   "execution_count": null,
   "metadata": {
    "id": "uNfVEqbQIMcn",
    "outputId": "4bb93ac1-71bd-4a78-c06b-213b0c57c8c6"
   },
   "outputs": [],
   "source": [
    "from sklearn import preprocessing\n",
    "\n",
    "#建立MinMaxScaler物件\n",
    "minmax = preprocessing.MinMaxScaler()\n",
    "\n",
    "# 資料標準化\n",
    "df['Max_Min'] = minmax.fit_transform(df['Score'].values.reshape(-1,1))\n",
    "df[['Score', 'Max_Min']]"
   ]
  },
  {
   "cell_type": "code",
   "execution_count": null,
   "metadata": {
    "id": "PdcYZjl0IMcn",
    "outputId": "9ea24fb4-8f15-4ab0-8d99-35bc82b4f378"
   },
   "outputs": [],
   "source": [
    "# Z-Score\n",
    "from IPython.display import Math\n",
    "\n",
    "Math(r'x^{(i)}_{std}=\\frac{x^{(i)}-\\mu_{x}}{\\sigma_{x}}')"
   ]
  },
  {
   "cell_type": "code",
   "execution_count": null,
   "metadata": {
    "id": "m7CCx7QCIMco",
    "outputId": "92a20992-1c75-4cfb-b216-7224bd873818"
   },
   "outputs": [],
   "source": [
    "from sklearn import preprocessing\n",
    "\n",
    "#建立StandardScaler物件\n",
    "zscore = preprocessing.StandardScaler()\n",
    "\n",
    "# 資料標準化\n",
    "df['Z_Score'] = zscore.fit_transform(df['Score'].values.reshape(-1,1))\n",
    "df[['Score', 'Z_Score']]"
   ]
  },
  {
   "cell_type": "markdown",
   "metadata": {
    "id": "ul_W0tIlIMco"
   },
   "source": [
    "## 視覺化"
   ]
  },
  {
   "cell_type": "code",
   "execution_count": null,
   "metadata": {
    "id": "vNcaXO7aIMco"
   },
   "outputs": [],
   "source": [
    "# 導入套件\n",
    "import matplotlib.pyplot as plt\n",
    "import seaborn"
   ]
  },
  {
   "cell_type": "code",
   "execution_count": null,
   "metadata": {
    "id": "gME2K2H1IMco"
   },
   "outputs": [],
   "source": [
    "# 添加中文字型\n",
    "import matplotlib as mpl\n",
    "from matplotlib.font_manager import fontManager\n",
    "\n",
    "fontManager.addfont('TaipeiSansTCBeta-Regular.ttf')\n",
    "mpl.rc('font', family='Taipei Sans TC Beta')"
   ]
  },
  {
   "cell_type": "markdown",
   "metadata": {
    "id": "nCOFfsuXIMco"
   },
   "source": [
    "### 長條圖 Bar chart"
   ]
  },
  {
   "cell_type": "code",
   "execution_count": null,
   "metadata": {
    "id": "-k9tHucwIMco",
    "outputId": "aecebc9e-de7f-4a29-fcf8-080b87c89268"
   },
   "outputs": [],
   "source": [
    "user_buy_count = df.groupby('UserId').count()['Id'].sort_values(ascending=False)\n",
    "\n",
    "# 創建圖形並設置大小\n",
    "plt.figure(figsize=(20,8))\n",
    "\n",
    "# 創建長條圖\n",
    "plt.bar(user_buy_count[:20].index, user_buy_count[:20].values)\n",
    "\n",
    "# 添加圖標題\n",
    "plt.title('各個使用者購買的商品總數量')\n",
    "\n",
    "# 添加軸標籤\n",
    "plt.xlabel('UserId')\n",
    "plt.ylabel('購買數量')\n",
    "\n",
    "# 顯示圖形\n",
    "plt.show()"
   ]
  },
  {
   "cell_type": "code",
   "execution_count": null,
   "metadata": {
    "id": "xxoAAjM1IMcp",
    "outputId": "e537e317-9181-4afa-e741-24454599753f"
   },
   "outputs": [],
   "source": [
    "# 創建圖形並設置大小\n",
    "plt.figure(figsize=(20,8))\n",
    "\n",
    "# 創建長條圖\n",
    "plt.bar(user_buy_count[:20].index, user_buy_count[:20].values)\n",
    "\n",
    "# 添加圖標題\n",
    "plt.title('各個使用者購買的商品總數量', fontsize = 25)\n",
    "\n",
    "# 添加軸標籤\n",
    "plt.xlabel('UserId', fontsize = 20)\n",
    "plt.ylabel('購買數量', fontsize = 20)\n",
    "\n",
    "# 設定軸刻度標籤\n",
    "plt.xticks(rotation = 90)\n",
    "\n",
    "# 顯示圖形\n",
    "plt.show()"
   ]
  },
  {
   "cell_type": "code",
   "execution_count": null,
   "metadata": {
    "id": "GyvIoW8cIMcp",
    "outputId": "10ab8858-dd79-435a-f5f2-109f213061ca"
   },
   "outputs": [],
   "source": [
    "season_score = pd.DataFrame()\n",
    "season_score['Score'] = df[df['Season']=='Spring'].groupby('Score').Id.count().index\n",
    "season_score['Spring'] = df[df['Season']=='Spring'].groupby('Score').Id.count().values\n",
    "season_score['Summer'] = df[df['Season']=='Summer'].groupby('Score').Id.count().values\n",
    "season_score['Autumn'] = df[df['Season']=='Autumn'].groupby('Score').Id.count().values\n",
    "season_score['Winter'] = df[df['Season']=='Winter'].groupby('Score').Id.count().values\n",
    "season_score"
   ]
  },
  {
   "cell_type": "code",
   "execution_count": null,
   "metadata": {
    "id": "KCMCsTMjIMcp",
    "outputId": "901ea266-fbef-4daa-b32f-b7529affcab4"
   },
   "outputs": [],
   "source": [
    "# 創建圖形並設置大小\n",
    "plt.figure(figsize=(20,8))\n",
    "\n",
    "# 設定長條寬度\n",
    "width_val = 0.2\n",
    "\n",
    "# 創建長條圖\n",
    "plt.bar(x=season_score.Score-width_val, height=season_score['Spring'], width=width_val, label = '春')\n",
    "plt.bar(x=season_score.Score, height=season_score['Summer'], width=width_val, label = '夏')\n",
    "plt.bar(x=season_score.Score+width_val, height=season_score['Autumn'], width=width_val, label = '秋')\n",
    "plt.bar(x=season_score.Score+width_val*2, height=season_score['Winter'], width=width_val, label = '冬')\n",
    "\n",
    "# 添加圖標題\n",
    "plt.title('比較各季節的商品評分與銷售數量', fontsize = 25)\n",
    "\n",
    "# 添加軸標籤\n",
    "plt.xlabel('商品評分', fontsize = 20)\n",
    "plt.ylabel('銷售數量', fontsize = 20)\n",
    "\n",
    "# 添加圖例說明\n",
    "plt.legend(fontsize = 20)\n",
    "\n",
    "# 顯示圖形\n",
    "plt.show()"
   ]
  },
  {
   "cell_type": "markdown",
   "metadata": {
    "id": "FQHUF_n3IMcp"
   },
   "source": [
    "### 折線圖 Line chart"
   ]
  },
  {
   "cell_type": "code",
   "execution_count": null,
   "metadata": {
    "id": "5j18q0jOIMcq",
    "outputId": "7d023f7d-e9b4-4518-cbbf-f4b481a4e270"
   },
   "outputs": [],
   "source": [
    "month_sales = df.groupby('Y-M').Id.count().sort_index()\n",
    "month_sales"
   ]
  },
  {
   "cell_type": "code",
   "execution_count": null,
   "metadata": {
    "id": "nXQoRGazIMcq",
    "outputId": "65f0a73c-86fc-4410-97d1-85d7a1b6885f"
   },
   "outputs": [],
   "source": [
    "# 創建圖形並設置大小\n",
    "plt.figure(figsize=(20,8))\n",
    "\n",
    "# 創建長條圖\n",
    "plt.plot(pd.to_datetime(month_sales.index), month_sales.values, linewidth=2)\n",
    "\n",
    "# 添加圖標題\n",
    "plt.title('1999 至 2012 商品月銷售量趨勢圖', fontsize=25)\n",
    "\n",
    "# 添加軸標籤\n",
    "plt.xlabel('時間', fontsize=20)\n",
    "plt.ylabel('銷售量', fontsize=20)\n",
    "\n",
    "# 設定軸刻度標籤\n",
    "plt.xticks(fontsize=15)\n",
    "\n",
    "# 顯示圖形\n",
    "plt.show()"
   ]
  },
  {
   "cell_type": "code",
   "execution_count": null,
   "metadata": {
    "id": "PlVOckFNIMcq"
   },
   "outputs": [],
   "source": [
    "sales_2009 = df[df['Year']==2009].groupby('Month').Id.count()\n",
    "sales_2010 = df[df['Year']==2010].groupby('Month').Id.count()\n",
    "sales_2011 = df[df['Year']==2011].groupby('Month').Id.count()"
   ]
  },
  {
   "cell_type": "code",
   "execution_count": null,
   "metadata": {
    "id": "M4OtXQXtIMcq",
    "outputId": "ea1747cd-5180-4cf0-f5c3-982c1fad590b"
   },
   "outputs": [],
   "source": [
    "# 創建圖形並設置大小\n",
    "plt.figure(figsize=(20,8))\n",
    "\n",
    "# 創建長條圖\n",
    "plt.plot(sales_2011.index, sales_2011, label = '2011年')\n",
    "plt.plot(sales_2010.index, sales_2010, label = '2010年')\n",
    "plt.plot(sales_2009.index, sales_2009, label = '2009年')\n",
    "\n",
    "# 添加圖標題\n",
    "plt.title('2009 至 2011 每月商品銷售量趨勢對比圖', fontsize=25)\n",
    "\n",
    "# 添加軸標籤\n",
    "plt.xlabel('月份', fontsize=20)\n",
    "plt.ylabel('銷售量', fontsize=20)\n",
    "\n",
    "# 設定軸刻度標籤\n",
    "plt.xticks(range(1,13), ['Jan', 'Feb', 'Mar', 'Apr', 'May', 'Jun', 'Jul','Aug','Sep','Oct', 'Nov', 'Dec'], fontsize = 15)\n",
    "\n",
    "# 添加圖例說明\n",
    "plt.legend(fontsize = 20)\n",
    "\n",
    "# 顯示圖形\n",
    "plt.show()"
   ]
  },
  {
   "cell_type": "markdown",
   "metadata": {
    "id": "hCZ7fvwMIMcq"
   },
   "source": [
    "### 圓餅圖 Pie Chart"
   ]
  },
  {
   "cell_type": "code",
   "execution_count": null,
   "metadata": {
    "id": "lD0NYJD6IMcq",
    "outputId": "b0bdcc91-3059-4e2e-9c30-5e6267a1eef8"
   },
   "outputs": [],
   "source": [
    "top5_sales = df.groupby('ProductId').Id.count().sort_values(ascending=False)[:5]\n",
    "top5_sales"
   ]
  },
  {
   "cell_type": "code",
   "execution_count": null,
   "metadata": {
    "id": "bOdUYYebIMcq",
    "outputId": "35e16fdd-7e2f-47ad-dfaa-1ec55a11171d"
   },
   "outputs": [],
   "source": [
    "# 創建圖形並設置大小\n",
    "plt.figure(figsize=(8,8))\n",
    "\n",
    "# 創建圓餅圖\n",
    "plt.pie(x=top5_sales, autopct='%1.1f%%', textprops = {\"fontsize\" : 15})\n",
    "\n",
    "# 添加圖例說明\n",
    "plt.legend(labels=top5_sales.index, fontsize = 15, bbox_to_anchor = (0.9,1))\n",
    "\n",
    "# 添加圖標題\n",
    "plt.title('top5商品銷售數量比例圖', fontsize = 25)\n",
    "\n",
    "# 顯示圖形\n",
    "plt.show()"
   ]
  },
  {
   "cell_type": "markdown",
   "metadata": {
    "id": "gk50Fn97IMcr"
   },
   "source": [
    "### 散點圖 Scatter Plot"
   ]
  },
  {
   "cell_type": "code",
   "execution_count": null,
   "metadata": {
    "id": "IKEjqmhUIMcr"
   },
   "outputs": [],
   "source": [
    "average_score = df.groupby('ProductId').Score.mean().sort_index()\n",
    "sales_count = df.groupby('ProductId').Id.count().sort_index()"
   ]
  },
  {
   "cell_type": "code",
   "execution_count": null,
   "metadata": {
    "id": "UjNWKcx6IMcr",
    "outputId": "330ce1a9-8ba5-4177-8139-b6066648bdab"
   },
   "outputs": [],
   "source": [
    "# 創建圖形並設置大小\n",
    "plt.figure(figsize=(20,8))\n",
    "\n",
    "# 創建散點圖\n",
    "plt.scatter(sales_count, average_score)\n",
    "\n",
    "# 添加圖標題\n",
    "plt.title('商品平均分數與銷售數量分佈圖', fontsize = 25)\n",
    "\n",
    "# 添加軸標籤\n",
    "plt.xlabel('銷售數量', fontsize = 20)\n",
    "plt.ylabel('商品平均分數', fontsize = 20)\n",
    "\n",
    "# 顯示圖形\n",
    "plt.show()"
   ]
  },
  {
   "cell_type": "markdown",
   "metadata": {
    "id": "SEifX2A5IMcr"
   },
   "source": [
    "### 範例圖"
   ]
  },
  {
   "cell_type": "code",
   "execution_count": null,
   "metadata": {
    "id": "FF3Thm5mIMcr",
    "outputId": "b30a8096-6625-4bc9-de37-12dabb3ec333"
   },
   "outputs": [],
   "source": [
    "import matplotlib.pyplot as plt\n",
    "import numpy as np\n",
    "\n",
    "# 長條圖\n",
    "categories = ['A', 'B', 'C', 'D']\n",
    "values = [15, 24, 12, 8]\n",
    "plt.bar(categories, values)\n",
    "plt.title('長條圖')\n",
    "plt.xlabel('類別')\n",
    "plt.ylabel('數量')\n",
    "plt.show()\n",
    "\n",
    "# 折線圖\n",
    "x = np.linspace(0, 10, 100)\n",
    "y = np.sin(x)\n",
    "plt.plot(x, y)\n",
    "plt.title('折線圖')\n",
    "plt.xlabel('X')\n",
    "plt.ylabel('Y')\n",
    "plt.show()\n",
    "\n",
    "# 直方圖\n",
    "data = np.random.randn(1000)\n",
    "plt.hist(data, bins=30)\n",
    "plt.title('直方圖')\n",
    "plt.xlabel('數值')\n",
    "plt.ylabel('頻率')\n",
    "plt.show()\n",
    "\n",
    "# 圓餅圖\n",
    "labels = ['A', 'B', 'C', 'D']\n",
    "sizes = [30, 20, 15, 35]\n",
    "plt.pie(sizes, labels=labels, autopct='%1.1f%%')\n",
    "plt.title('圓餅圖')\n",
    "plt.show()\n",
    "\n",
    "# 散點圖\n",
    "x = np.random.randn(100)\n",
    "y = np.random.randn(100)\n",
    "plt.scatter(x, y)\n",
    "plt.title('散點圖')\n",
    "plt.xlabel('X')\n",
    "plt.ylabel('Y')\n",
    "plt.show()\n"
   ]
  },
  {
   "cell_type": "code",
   "execution_count": null,
   "metadata": {
    "id": "Yc0uZzrGIMcr",
    "outputId": "04def4f7-e5c0-410c-eec8-755bca8bf2ac"
   },
   "outputs": [],
   "source": [
    "import matplotlib.pyplot as plt\n",
    "import numpy as np\n",
    "\n",
    "# 創建子圖\n",
    "fig, axes = plt.subplots(2, 3, figsize=(20, 10))\n",
    "\n",
    "# 長條圖\n",
    "categories = ['A', 'B', 'C', 'D']\n",
    "values = [15, 24, 12, 8]\n",
    "axes[0, 0].bar(categories, values)\n",
    "axes[0, 0].set_title('長條圖')\n",
    "axes[0, 0].set_xlabel('類別')\n",
    "axes[0, 0].set_ylabel('數量')\n",
    "\n",
    "# 折線圖\n",
    "x = np.linspace(0, 10, 100)\n",
    "y = np.sin(x)\n",
    "axes[0, 1].plot(x, y)\n",
    "axes[0, 1].set_title('折線圖')\n",
    "axes[0, 1].set_xlabel('X')\n",
    "axes[0, 1].set_ylabel('Y')\n",
    "\n",
    "# 直方圖\n",
    "data = np.random.randn(1000)\n",
    "axes[0, 2].hist(data, bins=30)\n",
    "axes[0, 2].set_title('直方圖')\n",
    "axes[0, 2].set_xlabel('數值')\n",
    "axes[0, 2].set_ylabel('頻率')\n",
    "\n",
    "# 圓餅圖\n",
    "labels = ['A', 'B', 'C', 'D']\n",
    "sizes = [30, 20, 15, 35]\n",
    "axes[1, 0].pie(sizes, labels=labels, autopct='%1.1f%%')\n",
    "axes[1, 0].set_title('圓餅圖')\n",
    "\n",
    "# 散點圖\n",
    "x = np.random.randn(100)\n",
    "y = np.random.randn(100)\n",
    "axes[1, 1].scatter(x, y)\n",
    "axes[1, 1].set_title('散點圖')\n",
    "axes[1, 1].set_xlabel('X')\n",
    "axes[1, 1].set_ylabel('Y')\n",
    "\n",
    "# 隱藏多餘的子圖\n",
    "axes[1, 2].axis('off')\n",
    "\n",
    "# 調整子圖間的間距\n",
    "plt.subplots_adjust(wspace=0.4, hspace=0.4)\n",
    "\n",
    "# 顯示圖形\n",
    "plt.show()\n"
   ]
  }
 ],
 "metadata": {
  "colab": {
   "provenance": []
  },
  "kernelspec": {
   "display_name": "base",
   "language": "python",
   "name": "python3"
  },
  "language_info": {
   "codemirror_mode": {
    "name": "ipython",
    "version": 3
   },
   "file_extension": ".py",
   "mimetype": "text/x-python",
   "name": "python",
   "nbconvert_exporter": "python",
   "pygments_lexer": "ipython3",
   "version": "3.10.0"
  }
 },
 "nbformat": 4,
 "nbformat_minor": 0
}
