{
 "cells": [
  {
   "cell_type": "markdown",
   "metadata": {},
   "source": [
    "# 資料視覺化作業\n",
    "\n",
    "資料集: Titanic: Machine Learning from Disaster:\n",
    "\n",
    "[https://www.kaggle.com/competitions/titanic/overview](https://www.kaggle.com/competitions/titanic/overview)\n",
    "\n",
    "## 載入套件和資料\n",
    "\n",
    "1. 安裝套件\n",
    "2. 載入套件\n",
    "3. 載入資料\n",
    "4. 檢視資料"
   ]
  },
  {
   "cell_type": "code",
   "execution_count": null,
   "metadata": {},
   "outputs": [],
   "source": [
    "import pandas as pd\n",
    "import numpy as np\n",
    "\n",
    "import seaborn as sns\n",
    "import matplotlib.pyplot as plt\n",
    "# 讓你的圖形直接嵌入到 Notebook 中，而不是另開視窗。\n",
    "%matplotlib inline\n",
    "\n",
    "# 設定字體\n",
    "import matplotlib as mpl\n",
    "from matplotlib.font_manager import fontManager\n",
    "fontManager.addfont('../in-class/TaipeiSansTCBeta-Regular.ttf')\n",
    "mpl.rc('font', family='Taipei Sans TC Beta')\n",
    "\n",
    "# read data\n",
    "train_df = pd.read_csv('./titanic/train.csv')\n",
    "test_df = pd.read_csv('./titanic/test.csv')\n",
    "\n",
    "# combined_df = pd.concat([train_df, test_df], sort=False) 合併方式錯誤，index會衝突\n",
    "combined_df = pd.concat([train_df, test_df], sort=False).reset_index(drop=True)\n"
   ]
  },
  {
   "cell_type": "code",
   "execution_count": null,
   "metadata": {},
   "outputs": [],
   "source": [
    "# preview the data\n",
    "train_df.head(20)"
   ]
  },
  {
   "cell_type": "code",
   "execution_count": null,
   "metadata": {},
   "outputs": [],
   "source": [
    "# preview the data\n",
    "train_df.info()\n",
    "print('_'*40)\n",
    "test_df.info()"
   ]
  },
  {
   "cell_type": "code",
   "execution_count": null,
   "metadata": {},
   "outputs": [],
   "source": [
    "print(train_df.describe())"
   ]
  },
  {
   "cell_type": "markdown",
   "metadata": {},
   "source": [
    "## 資料前處理\n",
    "\n",
    "### 欄位解釋\n",
    "# Data Dictionary\n",
    "\n",
    "| Variable  | Definition                           | Key                               |\n",
    "|-----------|--------------------------------------|-----------------------------------|\n",
    "| survival  | Survival                             | 0 = No, 1 = Yes                   |\n",
    "| pclass    | Ticket class                         | 1 = 1st, 2 = 2nd, 3 = 3rd         |\n",
    "| sex       | Sex                                  |                                   |\n",
    "| Age       | Age in years                         |                                   |\n",
    "| sibsp     | # of siblings / spouses aboard the Titanic |                           |\n",
    "| parch     | # of parents / children aboard the Titanic |                           |\n",
    "| ticket    | Ticket number                        |                                   |\n",
    "| fare      | Passenger fare                       |                                   |\n",
    "| cabin     | Cabin number                         |                                   |\n",
    "| embarked  | Port of Embarkation                  | C = Cherbourg, Q = Queenstown, S = Southampton |\n",
    "\n",
    "\n",
    "### 刪除含有缺失值的行或列\n",
    "\n",
    "這種方法最簡單，但當缺失值不多時才適用。如果刪除過多，可能會導致資訊的大量丟失。"
   ]
  },
  {
   "cell_type": "code",
   "execution_count": null,
   "metadata": {},
   "outputs": [],
   "source": [
    "# 檢視缺失值\n",
    "print(train_df.isnull().sum())"
   ]
  },
  {
   "cell_type": "code",
   "execution_count": null,
   "metadata": {},
   "outputs": [],
   "source": [
    "# 刪除任何含有缺失值的行\n",
    "cleaned_df = train_df.dropna()\n",
    "\n",
    "# 只刪除特定列有缺失值的行\n",
    "# cleaned_df = train_df.dropna(subset=['Age'])\n",
    "\n",
    "# 刪除含有缺失值的列（通常不推薦，除非該列大部分值都是缺失的）\n",
    "# cleaned_df = train_df.drop(columns=['Cabin'])"
   ]
  },
  {
   "cell_type": "code",
   "execution_count": null,
   "metadata": {},
   "outputs": [],
   "source": [
    "# 再次檢視缺失值\n",
    "print(cleaned_df.isnull().sum())"
   ]
  },
  {
   "cell_type": "markdown",
   "metadata": {},
   "source": [
    "## 開始製圖\n",
    "\n",
    "作業要求四種圖：\n",
    "\n",
    "- 長條圖(bar)\n",
    "- 折線圖(line)\n",
    "- 圓餅圖(pie)\n",
    "- 散點圖(scatter)\n",
    "\n",
    "### 乘客艙等和生存率的關係（長條圖）\n",
    "\n",
    "由圖可知，頭等艙的乘客生存率最高，三等艙的乘客生存率最低。\n",
    "\n",
    "可以推測，當時頭等艙的乘客更容易獲得救援，或是災難訊息會優先被頭等艙的乘客得知。"
   ]
  },
  {
   "cell_type": "code",
   "execution_count": null,
   "metadata": {},
   "outputs": [],
   "source": [
    "# get the top board passengers survived rate.\n",
    "combined_df[['Pclass', 'Survived']].groupby(['Pclass'], as_index=False).mean().sort_values(by='Survived', ascending=False)\n",
    "\n",
    "# build graph\n",
    "sns.barplot(x='Pclass', y='Survived', data=combined_df)\n",
    "\n",
    "# set graph info text\n",
    "plt.title('乘客艙等和生存率的關係', fontsize = 16)\n",
    "plt.xlabel('乘客艙等')\n",
    "plt.ylabel('生存率')\n",
    "\n",
    "# 更改 x 軸標籤\n",
    "plt.xticks(ticks=[0, 1, 2], labels=['1st', '2nd', '3rd'])\n",
    "\n",
    "plt.show()"
   ]
  },
  {
   "cell_type": "markdown",
   "metadata": {},
   "source": [
    "## 年齡層和平均票價的關係（折線圖）\n",
    "\n",
    "從圖中可以大致得知，年齡越大，平均票價越高。\n",
    "\n",
    "在 15~30 歲之間，票價都比較低，可以推算在剛出社會賺錢的人其實是最窮的。\n",
    "\n",
    "70~75 之間有雪崩式的下跌，可能是資料不足，需要另外繪圖來確認。\n",
    "\n",
    "- 圓括號 ( 或 ) 表示開區間，意味著該端點不包含在區間內。\n",
    "- 方括號 [ 或 ] 表示閉區間，意味著該端點包含在區間內。"
   ]
  },
  {
   "cell_type": "code",
   "execution_count": null,
   "metadata": {},
   "outputs": [],
   "source": [
    "# 5年為一單位\n",
    "age_bins = list(range(0, 85, 5))\n",
    "combined_df['AgeGroup'] = pd.cut(combined_df['Age'], bins=age_bins)\n",
    "\n",
    "# 計算每個年齡組的平均票價，顯式設置 observed 參數\n",
    "age_group_fare = combined_df[['AgeGroup', 'Fare']].groupby('AgeGroup', observed=False).mean().reset_index()\n",
    "\n",
    "# 為了讓 x 軸上的年齡組順序顯示，我們需要將 AgeGroup 轉換成字符串\n",
    "age_group_fare['AgeGroup'] = age_group_fare['AgeGroup'].astype(str)\n",
    "\n",
    "# 繪製折線圖\n",
    "sns.lineplot(x='AgeGroup', y='Fare', data=age_group_fare)\n",
    "\n",
    "# 設置圖表信息\n",
    "plt.title('年齡層和平均票價的關係', fontsize=16)\n",
    "plt.xlabel('年齡層')\n",
    "plt.ylabel('平均票價')\n",
    "\n",
    "# 修改x軸標籤的角度\n",
    "plt.xticks(rotation=45)\n",
    "\n",
    "# 顯示圖表\n",
    "plt.show()"
   ]
  },
  {
   "cell_type": "markdown",
   "metadata": {},
   "source": [
    "### 繪圖查證 70~75 歲之間的票價是否有問題（箱型圖）\n",
    "\n",
    "從箱型圖中可以看出，乘客大多數為頭等艙，但總比數僅有 4 筆，導致票價分布不均。\n",
    "\n",
    "4 筆中的 1 筆資料，二等艙票價拉低了平均值。\n"
   ]
  },
  {
   "cell_type": "code",
   "execution_count": null,
   "metadata": {},
   "outputs": [],
   "source": [
    "# 篩選出 71~75 歲之間的乘客\n",
    "age_71_75 = combined_df[(combined_df['Age'] > 70) & (combined_df['Age'] < 75)]\n",
    "\n",
    "# 繪製箱形圖\n",
    "plt.figure(figsize=(10,6))\n",
    "sns.boxplot(x='Pclass', y='Fare', data=age_71_75)\n",
    "\n",
    "plt.title('71~75 歲之間的票價分布', fontsize=16)\n",
    "plt.xlabel('乘客艙等')\n",
    "plt.ylabel('票價')\n",
    "plt.xticks(ticks=[0, 1], labels=['1st', '2nd'])\n",
    "\n",
    "\n",
    "# 計算票價的平均值\n",
    "mean_fare = age_71_75['Fare'].mean()\n",
    "\n",
    "# 在圖表說明附註 資料總筆數 和 平均票價\n",
    "plt.text(0.5, 0.85, f'*此區間資料總筆數: {age_71_75.shape[0]}', fontsize=12, transform=plt.gca().transAxes)\n",
    "plt.text(0.5, 0.8, f'*平均票價: {mean_fare:.2f}', fontsize=12, transform=plt.gca().transAxes)\n",
    "\n",
    "plt.show()"
   ]
  },
  {
   "cell_type": "markdown",
   "metadata": {},
   "source": []
  },
  {
   "cell_type": "markdown",
   "metadata": {},
   "source": [
    "## 男女比例（圓餅圖）\n",
    "\n",
    "可以看出男女在年齡層的比例相似，並且以 20~30 歲的乘客最多。"
   ]
  },
  {
   "cell_type": "code",
   "execution_count": null,
   "metadata": {},
   "outputs": [],
   "source": [
    "# 區分男女資料集\n",
    "male_df = combined_df[combined_df['Sex'] == 'male'].copy()\n",
    "female_df = combined_df[combined_df['Sex'] == 'female'].copy()\n",
    "\n",
    "# 切割資料\n",
    "age_bins = [0, 10, 20, 30, 40, 50, 60, 80] \n",
    "male_df['AgeGroup'] = pd.cut(male_df['Age'], bins=age_bins).astype('category')\n",
    "female_df['AgeGroup'] = pd.cut(female_df['Age'], bins=age_bins).astype('category')\n",
    "\n",
    "# 計算每個年齡組的人數\n",
    "male_age_counts = male_df['AgeGroup'].value_counts().sort_index()\n",
    "female_age_counts = female_df['AgeGroup'].value_counts().sort_index()\n",
    "\n",
    "# 繪製男性圓餅圖\n",
    "plt.figure(figsize=(14, 7))\n",
    "\n",
    "plt.subplot(1, 2, 1)\n",
    "male_age_counts.plot.pie(autopct='%1.1f%%', startangle=90, colors=sns.color_palette('Blues'))\n",
    "plt.title('男性年齡分佈', fontsize=16)\n",
    "plt.ylabel('')\n",
    "\n",
    "# 繪製女性圓餅圖\n",
    "plt.subplot(1, 2, 2)\n",
    "female_age_counts.plot.pie(autopct='%1.1f%%', startangle=90, colors=sns.color_palette('Reds'))\n",
    "plt.title('女性年齡分佈', fontsize=16)\n",
    "plt.ylabel('')\n",
    "\n",
    "plt.show()"
   ]
  },
  {
   "cell_type": "markdown",
   "metadata": {},
   "source": [
    "### 票價和乘客艙等（散點圖）\n",
    "\n",
    "有一筆票價為 500 的資料，應視為異常值。\n",
    "\n",
    "也有許多票價為 0 的資料，可能是免費票或是資料錯誤。"
   ]
  },
  {
   "cell_type": "code",
   "execution_count": null,
   "metadata": {},
   "outputs": [],
   "source": [
    "plt.figure(figsize=(10, 6))\n",
    "\n",
    "sns.scatterplot(x='Fare', y='Pclass', data=combined_df)\n",
    "\n",
    "# 設置 y 軸刻度僅顯示 1, 2, 3\n",
    "plt.yticks([1, 2, 3])\n",
    "\n",
    "# 添加標題和標籤\n",
    "plt.title('票價和乘客艙等', fontsize=16)\n",
    "plt.xlabel('票價')\n",
    "plt.ylabel('客艙等級')\n",
    "# 更改 x 軸標籤\n",
    "plt.yticks(ticks=[1, 2, 3], labels=['1st', '2nd', '3rd'])\n",
    "\n",
    "# 添加說明\n",
    "plt.text(0.7, 0.25, '*這筆500的票價應視為異常值', fontsize=12, transform=plt.gca().transAxes)\n",
    "plt.text(0.05, 0.7, '*許多票價為0', fontsize=12, transform=plt.gca().transAxes)\n",
    "\n",
    "# 顯示圖表\n",
    "plt.show()"
   ]
  },
  {
   "cell_type": "markdown",
   "metadata": {},
   "source": [
    "### 移除異常值後的散點圖\n",
    "\n",
    "可以三等艙 和 二等艙的票價分布較為集中且相似。\n",
    "\n",
    "頭等艙的票價則分布較廣，可能是因為頭等艙的人不在乎票價，上好美盤。"
   ]
  },
  {
   "cell_type": "code",
   "execution_count": null,
   "metadata": {},
   "outputs": [],
   "source": [
    "# 移除票價為 500 和 票價為0 的資料\n",
    "combined_df = combined_df[(combined_df['Fare'] < 500) & (combined_df['Fare'] != 0)]\n",
    "\n",
    "plt.figure(figsize=(10, 6))\n",
    "sns.scatterplot(x='Fare', y='Pclass', data=combined_df)\n",
    "\n",
    "# 設置 y 軸刻度僅顯示 1, 2, 3\n",
    "plt.yticks([1, 2, 3])\n",
    "\n",
    "# 添加標題和標籤\n",
    "plt.title('票價和乘客艙等', fontsize=16)\n",
    "plt.xlabel('票價')\n",
    "plt.ylabel('客艙等級')\n",
    "# 更改 x 軸標籤\n",
    "plt.yticks(ticks=[1, 2, 3], labels=['1st', '2nd', '3rd'])\n",
    "\n",
    "# 顯示圖表\n",
    "plt.show()"
   ]
  }
 ],
 "metadata": {
  "kernelspec": {
   "display_name": "m113-summer",
   "language": "python",
   "name": "python3"
  },
  "language_info": {
   "codemirror_mode": {
    "name": "ipython",
    "version": 3
   },
   "file_extension": ".py",
   "mimetype": "text/x-python",
   "name": "python",
   "nbconvert_exporter": "python",
   "pygments_lexer": "ipython3",
   "version": "3.10.13"
  }
 },
 "nbformat": 4,
 "nbformat_minor": 2
}
